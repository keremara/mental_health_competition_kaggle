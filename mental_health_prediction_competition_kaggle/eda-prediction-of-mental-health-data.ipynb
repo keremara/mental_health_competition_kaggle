{
 "cells": [
  {
   "cell_type": "code",
   "execution_count": 1,
   "id": "3002a79a",
   "metadata": {
    "_cell_guid": "b1076dfc-b9ad-4769-8c92-a6c4dae69d19",
    "_uuid": "8f2839f25d086af736a60e9eeb907d3b93b6e0e5",
    "execution": {
     "iopub.execute_input": "2024-11-30T05:13:17.636941Z",
     "iopub.status.busy": "2024-11-30T05:13:17.636552Z",
     "iopub.status.idle": "2024-11-30T05:13:18.496740Z",
     "shell.execute_reply": "2024-11-30T05:13:18.495490Z"
    },
    "papermill": {
     "duration": 0.88277,
     "end_time": "2024-11-30T05:13:18.499190",
     "exception": false,
     "start_time": "2024-11-30T05:13:17.616420",
     "status": "completed"
    },
    "tags": []
   },
   "outputs": [
    {
     "name": "stdout",
     "output_type": "stream",
     "text": [
      "/kaggle/input/playground-series-s4e11/sample_submission.csv\n",
      "/kaggle/input/playground-series-s4e11/train.csv\n",
      "/kaggle/input/playground-series-s4e11/test.csv\n"
     ]
    }
   ],
   "source": [
    "# This Python 3 environment comes with many helpful analytics libraries installed\n",
    "# It is defined by the kaggle/python Docker image: https://github.com/kaggle/docker-python\n",
    "# For example, here's several helpful packages to load\n",
    "\n",
    "import numpy as np # linear algebra\n",
    "import pandas as pd # data processing, CSV file I/O (e.g. pd.read_csv)\n",
    "\n",
    "# Input data files are available in the read-only \"../input/\" directory\n",
    "# For example, running this (by clicking run or pressing Shift+Enter) will list all files under the input directory\n",
    "\n",
    "import os\n",
    "for dirname, _, filenames in os.walk('/kaggle/input'):\n",
    "    for filename in filenames:\n",
    "        print(os.path.join(dirname, filename))\n",
    "\n",
    "# You can write up to 20GB to the current directory (/kaggle/working/) that gets preserved as output when you create a version using \"Save & Run All\" \n",
    "# You can also write temporary files to /kaggle/temp/, but they won't be saved outside of the current session"
   ]
  },
  {
   "cell_type": "code",
   "execution_count": 2,
   "id": "b12aaeaa",
   "metadata": {
    "execution": {
     "iopub.execute_input": "2024-11-30T05:13:18.534274Z",
     "iopub.status.busy": "2024-11-30T05:13:18.533780Z",
     "iopub.status.idle": "2024-11-30T05:13:20.676972Z",
     "shell.execute_reply": "2024-11-30T05:13:20.675871Z"
    },
    "papermill": {
     "duration": 2.163515,
     "end_time": "2024-11-30T05:13:20.679479",
     "exception": false,
     "start_time": "2024-11-30T05:13:18.515964",
     "status": "completed"
    },
    "tags": []
   },
   "outputs": [],
   "source": [
    "import matplotlib.pyplot as plt\n",
    "import random\n",
    "random.seed(123)\n",
    "from sklearn.preprocessing import LabelEncoder\n",
    "from sklearn import metrics\n",
    "import seaborn as sns\n",
    "from sklearn.metrics import roc_auc_score\n",
    "from sklearn.metrics import confusion_matrix\n",
    "from sklearn.metrics import precision_score\n",
    "from sklearn.metrics import recall_score\n",
    "from sklearn.metrics import f1_score\n",
    "from sklearn.neighbors import KNeighborsClassifier\n",
    "from sklearn.ensemble import BaggingClassifier\n",
    "from sklearn.ensemble import RandomForestClassifier\n",
    "from sklearn.ensemble import AdaBoostClassifier\n",
    "from sklearn.ensemble import GradientBoostingClassifier\n",
    "from sklearn.linear_model import LogisticRegression\n",
    "from sklearn.tree import DecisionTreeClassifier\n",
    "from sklearn.model_selection import train_test_split, cross_val_score, cross_val_predict, StratifiedKFold, RandomizedSearchCV, KFold\n"
   ]
  },
  {
   "cell_type": "code",
   "execution_count": 3,
   "id": "bd87d91f",
   "metadata": {
    "execution": {
     "iopub.execute_input": "2024-11-30T05:13:20.715517Z",
     "iopub.status.busy": "2024-11-30T05:13:20.715002Z",
     "iopub.status.idle": "2024-11-30T05:13:20.719842Z",
     "shell.execute_reply": "2024-11-30T05:13:20.718854Z"
    },
    "papermill": {
     "duration": 0.024722,
     "end_time": "2024-11-30T05:13:20.721920",
     "exception": false,
     "start_time": "2024-11-30T05:13:20.697198",
     "status": "completed"
    },
    "tags": []
   },
   "outputs": [],
   "source": [
    "import warnings\n",
    "warnings.filterwarnings('ignore')"
   ]
  },
  {
   "cell_type": "code",
   "execution_count": 4,
   "id": "b574f481",
   "metadata": {
    "execution": {
     "iopub.execute_input": "2024-11-30T05:13:20.756438Z",
     "iopub.status.busy": "2024-11-30T05:13:20.756051Z",
     "iopub.status.idle": "2024-11-30T05:13:21.862296Z",
     "shell.execute_reply": "2024-11-30T05:13:21.861196Z"
    },
    "papermill": {
     "duration": 1.126214,
     "end_time": "2024-11-30T05:13:21.864790",
     "exception": false,
     "start_time": "2024-11-30T05:13:20.738576",
     "status": "completed"
    },
    "tags": []
   },
   "outputs": [],
   "source": [
    "train_df = pd.read_csv('/kaggle/input/playground-series-s4e11/train.csv')\n",
    "test_df = pd.read_csv('/kaggle/input/playground-series-s4e11/test.csv')\n",
    "test_df_copy = pd.read_csv('/kaggle/input/playground-series-s4e11/test.csv')\n"
   ]
  },
  {
   "cell_type": "code",
   "execution_count": 5,
   "id": "1fc55a5e",
   "metadata": {
    "execution": {
     "iopub.execute_input": "2024-11-30T05:13:21.899679Z",
     "iopub.status.busy": "2024-11-30T05:13:21.899256Z",
     "iopub.status.idle": "2024-11-30T05:13:21.904253Z",
     "shell.execute_reply": "2024-11-30T05:13:21.903201Z"
    },
    "papermill": {
     "duration": 0.024782,
     "end_time": "2024-11-30T05:13:21.906391",
     "exception": false,
     "start_time": "2024-11-30T05:13:21.881609",
     "status": "completed"
    },
    "tags": []
   },
   "outputs": [],
   "source": [
    "def typeDF(df):\n",
    "    print(df.shape)\n",
    "    print(df.dtypes)"
   ]
  },
  {
   "cell_type": "code",
   "execution_count": 6,
   "id": "9f98d827",
   "metadata": {
    "execution": {
     "iopub.execute_input": "2024-11-30T05:13:21.940805Z",
     "iopub.status.busy": "2024-11-30T05:13:21.940414Z",
     "iopub.status.idle": "2024-11-30T05:13:21.946663Z",
     "shell.execute_reply": "2024-11-30T05:13:21.945705Z"
    },
    "papermill": {
     "duration": 0.026349,
     "end_time": "2024-11-30T05:13:21.949328",
     "exception": false,
     "start_time": "2024-11-30T05:13:21.922979",
     "status": "completed"
    },
    "tags": []
   },
   "outputs": [
    {
     "name": "stdout",
     "output_type": "stream",
     "text": [
      "(140700, 20)\n",
      "id                                         int64\n",
      "Name                                      object\n",
      "Gender                                    object\n",
      "Age                                      float64\n",
      "City                                      object\n",
      "Working Professional or Student           object\n",
      "Profession                                object\n",
      "Academic Pressure                        float64\n",
      "Work Pressure                            float64\n",
      "CGPA                                     float64\n",
      "Study Satisfaction                       float64\n",
      "Job Satisfaction                         float64\n",
      "Sleep Duration                            object\n",
      "Dietary Habits                            object\n",
      "Degree                                    object\n",
      "Have you ever had suicidal thoughts ?     object\n",
      "Work/Study Hours                         float64\n",
      "Financial Stress                         float64\n",
      "Family History of Mental Illness          object\n",
      "Depression                                 int64\n",
      "dtype: object\n"
     ]
    }
   ],
   "source": [
    "typeDF(train_df)"
   ]
  },
  {
   "cell_type": "code",
   "execution_count": 7,
   "id": "6cdf1007",
   "metadata": {
    "execution": {
     "iopub.execute_input": "2024-11-30T05:13:21.983669Z",
     "iopub.status.busy": "2024-11-30T05:13:21.983257Z",
     "iopub.status.idle": "2024-11-30T05:13:21.990145Z",
     "shell.execute_reply": "2024-11-30T05:13:21.989105Z"
    },
    "papermill": {
     "duration": 0.026582,
     "end_time": "2024-11-30T05:13:21.992302",
     "exception": false,
     "start_time": "2024-11-30T05:13:21.965720",
     "status": "completed"
    },
    "tags": []
   },
   "outputs": [
    {
     "name": "stdout",
     "output_type": "stream",
     "text": [
      "(93800, 19)\n",
      "id                                         int64\n",
      "Name                                      object\n",
      "Gender                                    object\n",
      "Age                                      float64\n",
      "City                                      object\n",
      "Working Professional or Student           object\n",
      "Profession                                object\n",
      "Academic Pressure                        float64\n",
      "Work Pressure                            float64\n",
      "CGPA                                     float64\n",
      "Study Satisfaction                       float64\n",
      "Job Satisfaction                         float64\n",
      "Sleep Duration                            object\n",
      "Dietary Habits                            object\n",
      "Degree                                    object\n",
      "Have you ever had suicidal thoughts ?     object\n",
      "Work/Study Hours                         float64\n",
      "Financial Stress                         float64\n",
      "Family History of Mental Illness          object\n",
      "dtype: object\n"
     ]
    }
   ],
   "source": [
    "typeDF(test_df)"
   ]
  },
  {
   "cell_type": "code",
   "execution_count": 8,
   "id": "1a53f77c",
   "metadata": {
    "execution": {
     "iopub.execute_input": "2024-11-30T05:13:22.027530Z",
     "iopub.status.busy": "2024-11-30T05:13:22.026796Z",
     "iopub.status.idle": "2024-11-30T05:13:22.056482Z",
     "shell.execute_reply": "2024-11-30T05:13:22.055393Z"
    },
    "papermill": {
     "duration": 0.049502,
     "end_time": "2024-11-30T05:13:22.058531",
     "exception": false,
     "start_time": "2024-11-30T05:13:22.009029",
     "status": "completed"
    },
    "tags": []
   },
   "outputs": [
    {
     "data": {
      "text/html": [
       "<div>\n",
       "<style scoped>\n",
       "    .dataframe tbody tr th:only-of-type {\n",
       "        vertical-align: middle;\n",
       "    }\n",
       "\n",
       "    .dataframe tbody tr th {\n",
       "        vertical-align: top;\n",
       "    }\n",
       "\n",
       "    .dataframe thead th {\n",
       "        text-align: right;\n",
       "    }\n",
       "</style>\n",
       "<table border=\"1\" class=\"dataframe\">\n",
       "  <thead>\n",
       "    <tr style=\"text-align: right;\">\n",
       "      <th></th>\n",
       "      <th>id</th>\n",
       "      <th>Name</th>\n",
       "      <th>Gender</th>\n",
       "      <th>Age</th>\n",
       "      <th>City</th>\n",
       "      <th>Working Professional or Student</th>\n",
       "      <th>Profession</th>\n",
       "      <th>Academic Pressure</th>\n",
       "      <th>Work Pressure</th>\n",
       "      <th>CGPA</th>\n",
       "      <th>Study Satisfaction</th>\n",
       "      <th>Job Satisfaction</th>\n",
       "      <th>Sleep Duration</th>\n",
       "      <th>Dietary Habits</th>\n",
       "      <th>Degree</th>\n",
       "      <th>Have you ever had suicidal thoughts ?</th>\n",
       "      <th>Work/Study Hours</th>\n",
       "      <th>Financial Stress</th>\n",
       "      <th>Family History of Mental Illness</th>\n",
       "      <th>Depression</th>\n",
       "    </tr>\n",
       "  </thead>\n",
       "  <tbody>\n",
       "    <tr>\n",
       "      <th>0</th>\n",
       "      <td>0</td>\n",
       "      <td>Aaradhya</td>\n",
       "      <td>Female</td>\n",
       "      <td>49.0</td>\n",
       "      <td>Ludhiana</td>\n",
       "      <td>Working Professional</td>\n",
       "      <td>Chef</td>\n",
       "      <td>NaN</td>\n",
       "      <td>5.0</td>\n",
       "      <td>NaN</td>\n",
       "      <td>NaN</td>\n",
       "      <td>2.0</td>\n",
       "      <td>More than 8 hours</td>\n",
       "      <td>Healthy</td>\n",
       "      <td>BHM</td>\n",
       "      <td>No</td>\n",
       "      <td>1.0</td>\n",
       "      <td>2.0</td>\n",
       "      <td>No</td>\n",
       "      <td>0</td>\n",
       "    </tr>\n",
       "    <tr>\n",
       "      <th>1</th>\n",
       "      <td>1</td>\n",
       "      <td>Vivan</td>\n",
       "      <td>Male</td>\n",
       "      <td>26.0</td>\n",
       "      <td>Varanasi</td>\n",
       "      <td>Working Professional</td>\n",
       "      <td>Teacher</td>\n",
       "      <td>NaN</td>\n",
       "      <td>4.0</td>\n",
       "      <td>NaN</td>\n",
       "      <td>NaN</td>\n",
       "      <td>3.0</td>\n",
       "      <td>Less than 5 hours</td>\n",
       "      <td>Unhealthy</td>\n",
       "      <td>LLB</td>\n",
       "      <td>Yes</td>\n",
       "      <td>7.0</td>\n",
       "      <td>3.0</td>\n",
       "      <td>No</td>\n",
       "      <td>1</td>\n",
       "    </tr>\n",
       "    <tr>\n",
       "      <th>2</th>\n",
       "      <td>2</td>\n",
       "      <td>Yuvraj</td>\n",
       "      <td>Male</td>\n",
       "      <td>33.0</td>\n",
       "      <td>Visakhapatnam</td>\n",
       "      <td>Student</td>\n",
       "      <td>NaN</td>\n",
       "      <td>5.0</td>\n",
       "      <td>NaN</td>\n",
       "      <td>8.97</td>\n",
       "      <td>2.0</td>\n",
       "      <td>NaN</td>\n",
       "      <td>5-6 hours</td>\n",
       "      <td>Healthy</td>\n",
       "      <td>B.Pharm</td>\n",
       "      <td>Yes</td>\n",
       "      <td>3.0</td>\n",
       "      <td>1.0</td>\n",
       "      <td>No</td>\n",
       "      <td>1</td>\n",
       "    </tr>\n",
       "  </tbody>\n",
       "</table>\n",
       "</div>"
      ],
      "text/plain": [
       "   id      Name  Gender   Age           City Working Professional or Student  \\\n",
       "0   0  Aaradhya  Female  49.0       Ludhiana            Working Professional   \n",
       "1   1     Vivan    Male  26.0       Varanasi            Working Professional   \n",
       "2   2    Yuvraj    Male  33.0  Visakhapatnam                         Student   \n",
       "\n",
       "  Profession  Academic Pressure  Work Pressure  CGPA  Study Satisfaction  \\\n",
       "0       Chef                NaN            5.0   NaN                 NaN   \n",
       "1    Teacher                NaN            4.0   NaN                 NaN   \n",
       "2        NaN                5.0            NaN  8.97                 2.0   \n",
       "\n",
       "   Job Satisfaction     Sleep Duration Dietary Habits   Degree  \\\n",
       "0               2.0  More than 8 hours        Healthy      BHM   \n",
       "1               3.0  Less than 5 hours      Unhealthy      LLB   \n",
       "2               NaN          5-6 hours        Healthy  B.Pharm   \n",
       "\n",
       "  Have you ever had suicidal thoughts ?  Work/Study Hours  Financial Stress  \\\n",
       "0                                    No               1.0               2.0   \n",
       "1                                   Yes               7.0               3.0   \n",
       "2                                   Yes               3.0               1.0   \n",
       "\n",
       "  Family History of Mental Illness  Depression  \n",
       "0                               No           0  \n",
       "1                               No           1  \n",
       "2                               No           1  "
      ]
     },
     "execution_count": 8,
     "metadata": {},
     "output_type": "execute_result"
    }
   ],
   "source": [
    "train_df.head(3)"
   ]
  },
  {
   "cell_type": "code",
   "execution_count": 9,
   "id": "2a13bbba",
   "metadata": {
    "execution": {
     "iopub.execute_input": "2024-11-30T05:13:22.093146Z",
     "iopub.status.busy": "2024-11-30T05:13:22.092793Z",
     "iopub.status.idle": "2024-11-30T05:13:22.111146Z",
     "shell.execute_reply": "2024-11-30T05:13:22.110129Z"
    },
    "papermill": {
     "duration": 0.038159,
     "end_time": "2024-11-30T05:13:22.113309",
     "exception": false,
     "start_time": "2024-11-30T05:13:22.075150",
     "status": "completed"
    },
    "tags": []
   },
   "outputs": [
    {
     "data": {
      "text/html": [
       "<div>\n",
       "<style scoped>\n",
       "    .dataframe tbody tr th:only-of-type {\n",
       "        vertical-align: middle;\n",
       "    }\n",
       "\n",
       "    .dataframe tbody tr th {\n",
       "        vertical-align: top;\n",
       "    }\n",
       "\n",
       "    .dataframe thead th {\n",
       "        text-align: right;\n",
       "    }\n",
       "</style>\n",
       "<table border=\"1\" class=\"dataframe\">\n",
       "  <thead>\n",
       "    <tr style=\"text-align: right;\">\n",
       "      <th></th>\n",
       "      <th>id</th>\n",
       "      <th>Name</th>\n",
       "      <th>Gender</th>\n",
       "      <th>Age</th>\n",
       "      <th>City</th>\n",
       "      <th>Working Professional or Student</th>\n",
       "      <th>Profession</th>\n",
       "      <th>Academic Pressure</th>\n",
       "      <th>Work Pressure</th>\n",
       "      <th>CGPA</th>\n",
       "      <th>Study Satisfaction</th>\n",
       "      <th>Job Satisfaction</th>\n",
       "      <th>Sleep Duration</th>\n",
       "      <th>Dietary Habits</th>\n",
       "      <th>Degree</th>\n",
       "      <th>Have you ever had suicidal thoughts ?</th>\n",
       "      <th>Work/Study Hours</th>\n",
       "      <th>Financial Stress</th>\n",
       "      <th>Family History of Mental Illness</th>\n",
       "    </tr>\n",
       "  </thead>\n",
       "  <tbody>\n",
       "    <tr>\n",
       "      <th>0</th>\n",
       "      <td>140700</td>\n",
       "      <td>Shivam</td>\n",
       "      <td>Male</td>\n",
       "      <td>53.0</td>\n",
       "      <td>Visakhapatnam</td>\n",
       "      <td>Working Professional</td>\n",
       "      <td>Judge</td>\n",
       "      <td>NaN</td>\n",
       "      <td>2.0</td>\n",
       "      <td>NaN</td>\n",
       "      <td>NaN</td>\n",
       "      <td>5.0</td>\n",
       "      <td>Less than 5 hours</td>\n",
       "      <td>Moderate</td>\n",
       "      <td>LLB</td>\n",
       "      <td>No</td>\n",
       "      <td>9.0</td>\n",
       "      <td>3.0</td>\n",
       "      <td>Yes</td>\n",
       "    </tr>\n",
       "    <tr>\n",
       "      <th>1</th>\n",
       "      <td>140701</td>\n",
       "      <td>Sanya</td>\n",
       "      <td>Female</td>\n",
       "      <td>58.0</td>\n",
       "      <td>Kolkata</td>\n",
       "      <td>Working Professional</td>\n",
       "      <td>Educational Consultant</td>\n",
       "      <td>NaN</td>\n",
       "      <td>2.0</td>\n",
       "      <td>NaN</td>\n",
       "      <td>NaN</td>\n",
       "      <td>4.0</td>\n",
       "      <td>Less than 5 hours</td>\n",
       "      <td>Moderate</td>\n",
       "      <td>B.Ed</td>\n",
       "      <td>No</td>\n",
       "      <td>6.0</td>\n",
       "      <td>4.0</td>\n",
       "      <td>No</td>\n",
       "    </tr>\n",
       "    <tr>\n",
       "      <th>2</th>\n",
       "      <td>140702</td>\n",
       "      <td>Yash</td>\n",
       "      <td>Male</td>\n",
       "      <td>53.0</td>\n",
       "      <td>Jaipur</td>\n",
       "      <td>Working Professional</td>\n",
       "      <td>Teacher</td>\n",
       "      <td>NaN</td>\n",
       "      <td>4.0</td>\n",
       "      <td>NaN</td>\n",
       "      <td>NaN</td>\n",
       "      <td>1.0</td>\n",
       "      <td>7-8 hours</td>\n",
       "      <td>Moderate</td>\n",
       "      <td>B.Arch</td>\n",
       "      <td>Yes</td>\n",
       "      <td>12.0</td>\n",
       "      <td>4.0</td>\n",
       "      <td>No</td>\n",
       "    </tr>\n",
       "  </tbody>\n",
       "</table>\n",
       "</div>"
      ],
      "text/plain": [
       "       id    Name  Gender   Age           City  \\\n",
       "0  140700  Shivam    Male  53.0  Visakhapatnam   \n",
       "1  140701   Sanya  Female  58.0        Kolkata   \n",
       "2  140702    Yash    Male  53.0         Jaipur   \n",
       "\n",
       "  Working Professional or Student              Profession  Academic Pressure  \\\n",
       "0            Working Professional                   Judge                NaN   \n",
       "1            Working Professional  Educational Consultant                NaN   \n",
       "2            Working Professional                 Teacher                NaN   \n",
       "\n",
       "   Work Pressure  CGPA  Study Satisfaction  Job Satisfaction  \\\n",
       "0            2.0   NaN                 NaN               5.0   \n",
       "1            2.0   NaN                 NaN               4.0   \n",
       "2            4.0   NaN                 NaN               1.0   \n",
       "\n",
       "      Sleep Duration Dietary Habits  Degree  \\\n",
       "0  Less than 5 hours       Moderate     LLB   \n",
       "1  Less than 5 hours       Moderate    B.Ed   \n",
       "2          7-8 hours       Moderate  B.Arch   \n",
       "\n",
       "  Have you ever had suicidal thoughts ?  Work/Study Hours  Financial Stress  \\\n",
       "0                                    No               9.0               3.0   \n",
       "1                                    No               6.0               4.0   \n",
       "2                                   Yes              12.0               4.0   \n",
       "\n",
       "  Family History of Mental Illness  \n",
       "0                              Yes  \n",
       "1                               No  \n",
       "2                               No  "
      ]
     },
     "execution_count": 9,
     "metadata": {},
     "output_type": "execute_result"
    }
   ],
   "source": [
    "test_df.head(3)"
   ]
  },
  {
   "cell_type": "code",
   "execution_count": 10,
   "id": "b00ead77",
   "metadata": {
    "execution": {
     "iopub.execute_input": "2024-11-30T05:13:22.149292Z",
     "iopub.status.busy": "2024-11-30T05:13:22.148396Z",
     "iopub.status.idle": "2024-11-30T05:13:22.155189Z",
     "shell.execute_reply": "2024-11-30T05:13:22.154190Z"
    },
    "papermill": {
     "duration": 0.026954,
     "end_time": "2024-11-30T05:13:22.157225",
     "exception": false,
     "start_time": "2024-11-30T05:13:22.130271",
     "status": "completed"
    },
    "tags": []
   },
   "outputs": [
    {
     "data": {
      "text/plain": [
       "Index(['id', 'Name', 'Gender', 'Age', 'City',\n",
       "       'Working Professional or Student', 'Profession', 'Academic Pressure',\n",
       "       'Work Pressure', 'CGPA', 'Study Satisfaction', 'Job Satisfaction',\n",
       "       'Sleep Duration', 'Dietary Habits', 'Degree',\n",
       "       'Have you ever had suicidal thoughts ?', 'Work/Study Hours',\n",
       "       'Financial Stress', 'Family History of Mental Illness', 'Depression'],\n",
       "      dtype='object')"
      ]
     },
     "execution_count": 10,
     "metadata": {},
     "output_type": "execute_result"
    }
   ],
   "source": [
    "train_df.columns"
   ]
  },
  {
   "cell_type": "code",
   "execution_count": 11,
   "id": "70394ebd",
   "metadata": {
    "execution": {
     "iopub.execute_input": "2024-11-30T05:13:22.193550Z",
     "iopub.status.busy": "2024-11-30T05:13:22.193154Z",
     "iopub.status.idle": "2024-11-30T05:13:22.354543Z",
     "shell.execute_reply": "2024-11-30T05:13:22.352836Z"
    },
    "papermill": {
     "duration": 0.182717,
     "end_time": "2024-11-30T05:13:22.356976",
     "exception": false,
     "start_time": "2024-11-30T05:13:22.174259",
     "status": "completed"
    },
    "tags": []
   },
   "outputs": [
    {
     "name": "stdout",
     "output_type": "stream",
     "text": [
      "<class 'pandas.core.frame.DataFrame'>\n",
      "RangeIndex: 140700 entries, 0 to 140699\n",
      "Data columns (total 20 columns):\n",
      " #   Column                                 Non-Null Count   Dtype  \n",
      "---  ------                                 --------------   -----  \n",
      " 0   id                                     140700 non-null  int64  \n",
      " 1   Name                                   140700 non-null  object \n",
      " 2   Gender                                 140700 non-null  object \n",
      " 3   Age                                    140700 non-null  float64\n",
      " 4   City                                   140700 non-null  object \n",
      " 5   Working Professional or Student        140700 non-null  object \n",
      " 6   Profession                             104070 non-null  object \n",
      " 7   Academic Pressure                      27897 non-null   float64\n",
      " 8   Work Pressure                          112782 non-null  float64\n",
      " 9   CGPA                                   27898 non-null   float64\n",
      " 10  Study Satisfaction                     27897 non-null   float64\n",
      " 11  Job Satisfaction                       112790 non-null  float64\n",
      " 12  Sleep Duration                         140700 non-null  object \n",
      " 13  Dietary Habits                         140696 non-null  object \n",
      " 14  Degree                                 140698 non-null  object \n",
      " 15  Have you ever had suicidal thoughts ?  140700 non-null  object \n",
      " 16  Work/Study Hours                       140700 non-null  float64\n",
      " 17  Financial Stress                       140696 non-null  float64\n",
      " 18  Family History of Mental Illness       140700 non-null  object \n",
      " 19  Depression                             140700 non-null  int64  \n",
      "dtypes: float64(8), int64(2), object(10)\n",
      "memory usage: 21.5+ MB\n",
      "None\n",
      "id                                            0\n",
      "Name                                          0\n",
      "Gender                                        0\n",
      "Age                                           0\n",
      "City                                          0\n",
      "Working Professional or Student               0\n",
      "Profession                                36630\n",
      "Academic Pressure                        112803\n",
      "Work Pressure                             27918\n",
      "CGPA                                     112802\n",
      "Study Satisfaction                       112803\n",
      "Job Satisfaction                          27910\n",
      "Sleep Duration                                0\n",
      "Dietary Habits                                4\n",
      "Degree                                        2\n",
      "Have you ever had suicidal thoughts ?         0\n",
      "Work/Study Hours                              0\n",
      "Financial Stress                              4\n",
      "Family History of Mental Illness              0\n",
      "Depression                                    0\n",
      "dtype: int64\n"
     ]
    }
   ],
   "source": [
    "print(train_df.info())\n",
    "print(train_df.isna().sum())"
   ]
  },
  {
   "cell_type": "code",
   "execution_count": 12,
   "id": "900b107c",
   "metadata": {
    "execution": {
     "iopub.execute_input": "2024-11-30T05:13:22.393372Z",
     "iopub.status.busy": "2024-11-30T05:13:22.392368Z",
     "iopub.status.idle": "2024-11-30T05:13:22.493828Z",
     "shell.execute_reply": "2024-11-30T05:13:22.492645Z"
    },
    "papermill": {
     "duration": 0.121748,
     "end_time": "2024-11-30T05:13:22.495929",
     "exception": false,
     "start_time": "2024-11-30T05:13:22.374181",
     "status": "completed"
    },
    "tags": []
   },
   "outputs": [
    {
     "name": "stdout",
     "output_type": "stream",
     "text": [
      "<class 'pandas.core.frame.DataFrame'>\n",
      "RangeIndex: 93800 entries, 0 to 93799\n",
      "Data columns (total 19 columns):\n",
      " #   Column                                 Non-Null Count  Dtype  \n",
      "---  ------                                 --------------  -----  \n",
      " 0   id                                     93800 non-null  int64  \n",
      " 1   Name                                   93800 non-null  object \n",
      " 2   Gender                                 93800 non-null  object \n",
      " 3   Age                                    93800 non-null  float64\n",
      " 4   City                                   93800 non-null  object \n",
      " 5   Working Professional or Student        93800 non-null  object \n",
      " 6   Profession                             69168 non-null  object \n",
      " 7   Academic Pressure                      18767 non-null  float64\n",
      " 8   Work Pressure                          75022 non-null  float64\n",
      " 9   CGPA                                   18766 non-null  float64\n",
      " 10  Study Satisfaction                     18767 non-null  float64\n",
      " 11  Job Satisfaction                       75026 non-null  float64\n",
      " 12  Sleep Duration                         93800 non-null  object \n",
      " 13  Dietary Habits                         93795 non-null  object \n",
      " 14  Degree                                 93798 non-null  object \n",
      " 15  Have you ever had suicidal thoughts ?  93800 non-null  object \n",
      " 16  Work/Study Hours                       93800 non-null  float64\n",
      " 17  Financial Stress                       93800 non-null  float64\n",
      " 18  Family History of Mental Illness       93800 non-null  object \n",
      "dtypes: float64(8), int64(1), object(10)\n",
      "memory usage: 13.6+ MB\n",
      "None\n",
      "id                                           0\n",
      "Name                                         0\n",
      "Gender                                       0\n",
      "Age                                          0\n",
      "City                                         0\n",
      "Working Professional or Student              0\n",
      "Profession                               24632\n",
      "Academic Pressure                        75033\n",
      "Work Pressure                            18778\n",
      "CGPA                                     75034\n",
      "Study Satisfaction                       75033\n",
      "Job Satisfaction                         18774\n",
      "Sleep Duration                               0\n",
      "Dietary Habits                               5\n",
      "Degree                                       2\n",
      "Have you ever had suicidal thoughts ?        0\n",
      "Work/Study Hours                             0\n",
      "Financial Stress                             0\n",
      "Family History of Mental Illness             0\n",
      "dtype: int64\n"
     ]
    }
   ],
   "source": [
    "print(test_df.info())\n",
    "print(test_df.isna().sum())"
   ]
  },
  {
   "cell_type": "markdown",
   "id": "c9c7c45f",
   "metadata": {
    "papermill": {
     "duration": 0.01716,
     "end_time": "2024-11-30T05:13:22.531370",
     "exception": false,
     "start_time": "2024-11-30T05:13:22.514210",
     "status": "completed"
    },
    "tags": []
   },
   "source": [
    "##### Since the number of missing values for 'Academic Pressure', 'CGPA', 'Study Satisfaction' columns more than %50, I dropped these columns"
   ]
  },
  {
   "cell_type": "code",
   "execution_count": 13,
   "id": "e0dcde12",
   "metadata": {
    "execution": {
     "iopub.execute_input": "2024-11-30T05:13:22.567734Z",
     "iopub.status.busy": "2024-11-30T05:13:22.567023Z",
     "iopub.status.idle": "2024-11-30T05:13:22.592619Z",
     "shell.execute_reply": "2024-11-30T05:13:22.591535Z"
    },
    "papermill": {
     "duration": 0.046347,
     "end_time": "2024-11-30T05:13:22.594995",
     "exception": false,
     "start_time": "2024-11-30T05:13:22.548648",
     "status": "completed"
    },
    "tags": []
   },
   "outputs": [],
   "source": [
    "train_df = train_df.drop(['Academic Pressure', 'CGPA', 'Study Satisfaction'], axis=1)\n",
    "test_df = test_df.drop(['Academic Pressure', 'CGPA', 'Study Satisfaction'], axis=1)"
   ]
  },
  {
   "cell_type": "code",
   "execution_count": 14,
   "id": "5a995b87",
   "metadata": {
    "execution": {
     "iopub.execute_input": "2024-11-30T05:13:22.631278Z",
     "iopub.status.busy": "2024-11-30T05:13:22.630546Z",
     "iopub.status.idle": "2024-11-30T05:13:22.776708Z",
     "shell.execute_reply": "2024-11-30T05:13:22.775666Z"
    },
    "jupyter": {
     "source_hidden": true
    },
    "papermill": {
     "duration": 0.166984,
     "end_time": "2024-11-30T05:13:22.779200",
     "exception": false,
     "start_time": "2024-11-30T05:13:22.612216",
     "status": "completed"
    },
    "tags": []
   },
   "outputs": [
    {
     "name": "stdout",
     "output_type": "stream",
     "text": [
      "Gender\n",
      "['Female' 'Male']\n",
      "2\n",
      "*************\n",
      "Working Professional or Student\n",
      "['Working Professional' 'Student']\n",
      "2\n",
      "*************\n",
      "Profession\n",
      "['Chef' 'Teacher' nan 'Business Analyst' 'Finanancial Analyst' 'Chemist'\n",
      " 'Electrician' 'Software Engineer' 'Data Scientist' 'Plumber'\n",
      " 'Marketing Manager' 'Accountant' 'Entrepreneur' 'HR Manager'\n",
      " 'UX/UI Designer' 'Content Writer' 'Educational Consultant'\n",
      " 'Civil Engineer' 'Manager' 'Pharmacist' 'Financial Analyst' 'Architect'\n",
      " 'Mechanical Engineer' 'Customer Support' 'Consultant' 'Judge'\n",
      " 'Researcher' 'Pilot' 'Graphic Designer' 'Travel Consultant'\n",
      " 'Digital Marketer' 'Lawyer' 'Research Analyst' 'Sales Executive' 'Doctor'\n",
      " 'Unemployed' 'Investment Banker' 'Family Consultant' 'B.Com' 'BE'\n",
      " 'Student' 'Yogesh' 'Dev' 'MBA' 'LLM' 'BCA' 'Academic' 'Profession'\n",
      " 'FamilyVirar' 'City Manager' 'BBA' 'Medical Doctor'\n",
      " 'Working Professional' 'MBBS' 'Patna' 'Unveil' 'B.Ed' 'Nagpur' 'Moderate'\n",
      " 'M.Ed' 'Analyst' 'Pranav' 'Visakhapatnam' 'PhD' 'Yuvraj']\n",
      "65\n",
      "*************\n",
      "Work Pressure\n",
      "[ 5.  4. nan  1.  2.  3.]\n",
      "6\n",
      "*************\n",
      "Job Satisfaction\n",
      "[ 2.  3. nan  1.  5.  4.]\n",
      "6\n",
      "*************\n",
      "Sleep Duration\n",
      "['More than 8 hours' 'Less than 5 hours' '5-6 hours' '7-8 hours'\n",
      " 'Sleep_Duration' '1-2 hours' '6-8 hours' '4-6 hours' '6-7 hours'\n",
      " '10-11 hours' '8-9 hours' '40-45 hours' '9-11 hours' '2-3 hours'\n",
      " '3-4 hours' 'Moderate' '55-66 hours' '4-5 hours' '9-6 hours' '1-3 hours'\n",
      " 'Indore' '45' '1-6 hours' '35-36 hours' '8 hours' 'No' '10-6 hours'\n",
      " 'than 5 hours' '49 hours' 'Unhealthy' 'Work_Study_Hours' '3-6 hours'\n",
      " '45-48 hours' '9-5' 'Pune' '9-5 hours']\n",
      "36\n",
      "*************\n",
      "Dietary Habits\n",
      "['Healthy' 'Unhealthy' 'Moderate' 'Yes' 'Pratham' 'BSc' 'Gender' '3'\n",
      " 'More Healthy' 'Less than Healthy' 'Mihir' '1.0' 'Hormonal' 'Electrician'\n",
      " nan 'No Healthy' 'Less Healthy' 'M.Tech' 'Vegas' 'No' 'Male' 'Indoor'\n",
      " 'Class 12' '2']\n",
      "24\n",
      "*************\n",
      "Degree\n",
      "['BHM' 'LLB' 'B.Pharm' 'BBA' 'MCA' 'MD' 'BSc' 'ME' 'B.Arch' 'BCA' 'BE'\n",
      " 'MA' 'B.Ed' 'B.Com' 'MBA' 'M.Com' 'MHM' 'BA' 'Class 12' 'M.Tech' 'PhD'\n",
      " 'M.Ed' 'MSc' 'B.Tech' 'LLM' 'MBBS' 'M.Pharm' 'UX/UI Designer' 'MPA' 'BH'\n",
      " 'Nalini' 'BEd' 'B.Sc' 'Veda' 'Bhopal' 'S.Tech' 'Degree' '20' 'Class 11'\n",
      " 'H_Pharm' 'M' 'P.Com' 'BPharm' 'Business Analyst' 'M.Arch' 'LL.Com'\n",
      " 'Data Scientist' 'MPharm' 'L.Ed' 'P.Pharm' 'Kalyan' 'Unite' 'BArch'\n",
      " 'HR Manager' 'Badhya' 'S.Pharm' 'LLBA' 'Vrinda' 'M. Business Analyst'\n",
      " 'Bhavesh' '0' 'LLCom' '29' 'MTech' 'Vivaan' 'BPA' 'Plumber' '5.61' 'Brit'\n",
      " 'B.03' 'Ritik' '5.56' 'MEd' 'B' 'B BA' '7.06' 'B.B.Arch' 'ACA' 'Brithika'\n",
      " 'CGPA' '24' 'M_Tech' 'Pihu' 'BB' 'Jhanvi' 'LLTech' 'Aarav' 'Entrepreneur'\n",
      " '8.56' 'LHM' 'Lata' 'S.Arch' 'Marsh' 'HCA' '5.88' 'B.Student' 'LL B.Ed'\n",
      " 'M.S' 'Navya' 'Mahika' nan 'K.Ed' 'B.3.79' 'Mthanya'\n",
      " 'Working Professional' 'Esha' 'LLS' 'LLEd' 'E.Tech' 'Doctor' 'N.Pharm'\n",
      " 'LCA' 'B B.Com' 'RCA' 'Mihir' 'Advait']\n",
      "116\n",
      "*************\n",
      "Have you ever had suicidal thoughts ?\n",
      "['No' 'Yes']\n",
      "2\n",
      "*************\n",
      "Work/Study Hours\n",
      "[ 1.  7.  3. 10.  9.  6.  8.  2.  0.  5. 12.  4. 11.]\n",
      "13\n",
      "*************\n",
      "Financial Stress\n",
      "[ 2.  3.  1.  4.  5. nan]\n",
      "6\n",
      "*************\n",
      "Family History of Mental Illness\n",
      "['No' 'Yes']\n",
      "2\n",
      "*************\n",
      "Depression\n",
      "[0 1]\n",
      "2\n",
      "*************\n"
     ]
    }
   ],
   "source": [
    "def checkColUnique(df):\n",
    "    for col in df.columns:\n",
    "        if col=='id' or col=='Name' or col=='Age' or col=='City':\n",
    "            pass\n",
    "        else:\n",
    "            print(str(col))\n",
    "            print(df[col].unique())\n",
    "            print(len(df[col].unique()))\n",
    "            print('*************')\n",
    "        \n",
    "checkColUnique(train_df)"
   ]
  },
  {
   "cell_type": "code",
   "execution_count": 15,
   "id": "5bc76ffe",
   "metadata": {
    "execution": {
     "iopub.execute_input": "2024-11-30T05:13:22.816069Z",
     "iopub.status.busy": "2024-11-30T05:13:22.815312Z",
     "iopub.status.idle": "2024-11-30T05:13:22.911972Z",
     "shell.execute_reply": "2024-11-30T05:13:22.910741Z"
    },
    "jupyter": {
     "source_hidden": true
    },
    "papermill": {
     "duration": 0.117273,
     "end_time": "2024-11-30T05:13:22.914113",
     "exception": false,
     "start_time": "2024-11-30T05:13:22.796840",
     "status": "completed"
    },
    "tags": []
   },
   "outputs": [
    {
     "name": "stdout",
     "output_type": "stream",
     "text": [
      "Gender\n",
      "['Male' 'Female']\n",
      "2\n",
      "*************\n",
      "Working Professional or Student\n",
      "['Working Professional' 'Student']\n",
      "2\n",
      "*************\n",
      "Profession\n",
      "['Judge' 'Educational Consultant' 'Teacher' nan 'Customer Support'\n",
      " 'Chemist' 'Content Writer' 'Consultant' 'HR Manager' 'Research Analyst'\n",
      " 'Digital Marketer' 'Electrician' 'Marketing Manager' 'Plumber'\n",
      " 'Pharmacist' 'Lawyer' 'Pilot' 'Architect' 'Chef' 'Graphic Designer'\n",
      " 'Entrepreneur' 'Manager' 'Mechanical Engineer' 'Software Engineer'\n",
      " 'Travel Consultant' 'Finanancial Analyst' 'Financial Analyst' 'Doctor'\n",
      " 'Business Analyst' 'UX/UI Designer' 'Sales Executive' 'Data Scientist'\n",
      " 'Accountant' 'Researcher' 'Civil Engineer' 'Investment Banker'\n",
      " 'Unhealthy' 'B.Ed' 'Student' 'Working Professional' '3M' 'ME' 'B.Pharm'\n",
      " '24th' 'Manvi' 'Yogesh' 'Samar' 'Surat' 'PhD' 'M.Ed' 'MD' 'Name' 'MCA'\n",
      " 'Simran' 'Analyst' 'Profession' 'Unemployed' 'BBA' 'M.Tech' 'LLM'\n",
      " 'Surgeon' 'No' 'Unveil' 'City Consultant' 'M.Pharm']\n",
      "65\n",
      "*************\n",
      "Work Pressure\n",
      "[ 2.  4. nan  5.  1.  3.]\n",
      "6\n",
      "*************\n",
      "Job Satisfaction\n",
      "[ 5.  4.  1. nan  3.  2.]\n",
      "6\n",
      "*************\n",
      "Sleep Duration\n",
      "['Less than 5 hours' '7-8 hours' 'More than 8 hours' '5-6 hours' '0'\n",
      " 'Meerut' '9-5 hours' '6-7 hours' '60-65 hours' 'Vivan' '3-4 hours'\n",
      " '1-6 hours' '9-5' 'Unhealthy' '8-9 hours' '4-5 hours' 'than 5 hours'\n",
      " '9-6 hours' '1-2 hours' '8-89 hours'\n",
      " 'Have_you_ever_had_suicidal_thoughts' '20-21 hours' '10-6 hours'\n",
      " '1-3 hours' '6 hours' '50-75 hours' '4-6 hours' '2-3 hours' '9-11 hours'\n",
      " '9-10 hours' '3-6 hours']\n",
      "31\n",
      "*************\n",
      "Dietary Habits\n",
      "['Moderate' 'Healthy' 'Unhealthy' 'More Healthy' 'No' 'Indoor' 'Prachi'\n",
      " nan 'Male' 'Less Healthy' 'Mealy' 'Resistant' 'MCA' '5 Healthy'\n",
      " 'Academic' 'Educational' 'Soham' '5 Unhealthy' 'Vivaan' 'Raghav' '1.0'\n",
      " 'Naina' 'Kolkata']\n",
      "23\n",
      "*************\n",
      "Degree\n",
      "['LLB' 'B.Ed' 'B.Arch' 'BSc' 'BCA' 'B.Com' 'MA' 'BA' 'BBA' 'Class 12' 'MD'\n",
      " 'MBA' 'M.Ed' 'M.Pharm' 'BHM' 'LLM' 'PhD' 'M.Com' 'BE' 'MBBS' 'B.Tech'\n",
      " 'ME' 'MCA' 'B.Pharm' 'MHM' 'M.Tech' 'BTech' 'MSc' 'BArch' 'B. Gender'\n",
      " 'B.Study_Hours' 'Advait' 'M.Arch' 'A.Ed' 'Mechanical Engineer' 'B.H'\n",
      " 'B.Sc' 'B' 'M.UI' 'Vibha' 'B BCA' 'B.Press' 'BPharm' 'Gagan' 'MPharm'\n",
      " 'Travel Consultant' '5.65' 'Business Analyst' 'Eshita' 'B_Com' 'Navya'\n",
      " 'B._Pharm' 'Pune' 'Bian' 'B.M.Com' 'Kavya' 'M.M.Ed' 'S.Pharm' 'Vrinda'\n",
      " 'M' 'E.Ed' '3.0' 'Moham' 'B.BA' nan 'I.Ed' 'Degree' 'Magan' 'B B.Tech'\n",
      " 'M.B.Ed' 'Bhopal' 'B Financial Analyst' 'GCA' 'G.Ed' 'Rupak' 'RCA' 'B.CA'\n",
      " 'PCA' 'J.Ed' 'BH' 'BEd' '8.95' 'Aadhya' '20' 'Banchal' 'M.' 'K.Ed' 'BHCA']\n",
      "88\n",
      "*************\n",
      "Have you ever had suicidal thoughts ?\n",
      "['No' 'Yes']\n",
      "2\n",
      "*************\n",
      "Work/Study Hours\n",
      "[ 9.  6. 12. 10.  3.  0.  8.  5.  4. 11.  7.  1.  2.]\n",
      "13\n",
      "*************\n",
      "Financial Stress\n",
      "[3. 4. 2. 1. 5.]\n",
      "5\n",
      "*************\n",
      "Family History of Mental Illness\n",
      "['Yes' 'No']\n",
      "2\n",
      "*************\n"
     ]
    }
   ],
   "source": [
    "checkColUnique(test_df)"
   ]
  },
  {
   "cell_type": "code",
   "execution_count": 16,
   "id": "7af397e9",
   "metadata": {
    "execution": {
     "iopub.execute_input": "2024-11-30T05:13:22.952312Z",
     "iopub.status.busy": "2024-11-30T05:13:22.951355Z",
     "iopub.status.idle": "2024-11-30T05:13:22.981942Z",
     "shell.execute_reply": "2024-11-30T05:13:22.980841Z"
    },
    "papermill": {
     "duration": 0.052466,
     "end_time": "2024-11-30T05:13:22.984348",
     "exception": false,
     "start_time": "2024-11-30T05:13:22.931882",
     "status": "completed"
    },
    "tags": []
   },
   "outputs": [],
   "source": [
    "train_df = train_df.drop(['id', 'Name', 'City'], axis=1)\n",
    "test_df = test_df.drop(['id', 'Name', 'City'], axis=1)"
   ]
  },
  {
   "cell_type": "code",
   "execution_count": 17,
   "id": "c1fb1b1e",
   "metadata": {
    "execution": {
     "iopub.execute_input": "2024-11-30T05:13:23.021455Z",
     "iopub.status.busy": "2024-11-30T05:13:23.021081Z",
     "iopub.status.idle": "2024-11-30T05:13:23.027596Z",
     "shell.execute_reply": "2024-11-30T05:13:23.026639Z"
    },
    "papermill": {
     "duration": 0.027387,
     "end_time": "2024-11-30T05:13:23.029620",
     "exception": false,
     "start_time": "2024-11-30T05:13:23.002233",
     "status": "completed"
    },
    "tags": []
   },
   "outputs": [
    {
     "data": {
      "text/plain": [
       "Index(['Gender', 'Age', 'Working Professional or Student', 'Profession',\n",
       "       'Work Pressure', 'Job Satisfaction', 'Sleep Duration', 'Dietary Habits',\n",
       "       'Degree', 'Have you ever had suicidal thoughts ?', 'Work/Study Hours',\n",
       "       'Financial Stress', 'Family History of Mental Illness', 'Depression'],\n",
       "      dtype='object')"
      ]
     },
     "execution_count": 17,
     "metadata": {},
     "output_type": "execute_result"
    }
   ],
   "source": [
    "train_df.columns"
   ]
  },
  {
   "cell_type": "markdown",
   "id": "f4770b6a",
   "metadata": {
    "papermill": {
     "duration": 0.017727,
     "end_time": "2024-11-30T05:13:23.065288",
     "exception": false,
     "start_time": "2024-11-30T05:13:23.047561",
     "status": "completed"
    },
    "tags": []
   },
   "source": [
    "### Preprocessing on columns"
   ]
  },
  {
   "cell_type": "markdown",
   "id": "33f78896",
   "metadata": {
    "papermill": {
     "duration": 0.017551,
     "end_time": "2024-11-30T05:13:23.100818",
     "exception": false,
     "start_time": "2024-11-30T05:13:23.083267",
     "status": "completed"
    },
    "tags": []
   },
   "source": [
    "#### Age column"
   ]
  },
  {
   "cell_type": "code",
   "execution_count": 18,
   "id": "ff83d0d3",
   "metadata": {
    "execution": {
     "iopub.execute_input": "2024-11-30T05:13:23.138380Z",
     "iopub.status.busy": "2024-11-30T05:13:23.137730Z",
     "iopub.status.idle": "2024-11-30T05:13:23.143722Z",
     "shell.execute_reply": "2024-11-30T05:13:23.142685Z"
    },
    "papermill": {
     "duration": 0.02725,
     "end_time": "2024-11-30T05:13:23.145784",
     "exception": false,
     "start_time": "2024-11-30T05:13:23.118534",
     "status": "completed"
    },
    "tags": []
   },
   "outputs": [
    {
     "name": "stdout",
     "output_type": "stream",
     "text": [
      "float64\n",
      "float64\n"
     ]
    }
   ],
   "source": [
    "print(train_df['Age'].dtypes)\n",
    "print(test_df['Age'].dtypes)"
   ]
  },
  {
   "cell_type": "code",
   "execution_count": 19,
   "id": "c2debe1c",
   "metadata": {
    "execution": {
     "iopub.execute_input": "2024-11-30T05:13:23.236102Z",
     "iopub.status.busy": "2024-11-30T05:13:23.235178Z",
     "iopub.status.idle": "2024-11-30T05:13:23.241652Z",
     "shell.execute_reply": "2024-11-30T05:13:23.240880Z"
    },
    "papermill": {
     "duration": 0.080065,
     "end_time": "2024-11-30T05:13:23.243811",
     "exception": false,
     "start_time": "2024-11-30T05:13:23.163746",
     "status": "completed"
    },
    "tags": []
   },
   "outputs": [],
   "source": [
    "train_df['Age'] = train_df['Age'].astype(int)\n",
    "test_df['Age'] = test_df['Age'].astype(int)"
   ]
  },
  {
   "cell_type": "markdown",
   "id": "b2266818",
   "metadata": {
    "papermill": {
     "duration": 0.01788,
     "end_time": "2024-11-30T05:13:23.280104",
     "exception": false,
     "start_time": "2024-11-30T05:13:23.262224",
     "status": "completed"
    },
    "tags": []
   },
   "source": [
    "#### Gender column"
   ]
  },
  {
   "cell_type": "code",
   "execution_count": 20,
   "id": "2cbdfa3e",
   "metadata": {
    "execution": {
     "iopub.execute_input": "2024-11-30T05:13:23.319041Z",
     "iopub.status.busy": "2024-11-30T05:13:23.318654Z",
     "iopub.status.idle": "2024-11-30T05:13:23.336566Z",
     "shell.execute_reply": "2024-11-30T05:13:23.335402Z"
    },
    "papermill": {
     "duration": 0.039311,
     "end_time": "2024-11-30T05:13:23.338792",
     "exception": false,
     "start_time": "2024-11-30T05:13:23.299481",
     "status": "completed"
    },
    "tags": []
   },
   "outputs": [
    {
     "name": "stdout",
     "output_type": "stream",
     "text": [
      "['Female' 'Male']\n",
      "['Male' 'Female']\n"
     ]
    }
   ],
   "source": [
    "print(train_df['Gender'].unique())\n",
    "print(test_df['Gender'].unique())"
   ]
  },
  {
   "cell_type": "code",
   "execution_count": 21,
   "id": "d5f089e2",
   "metadata": {
    "execution": {
     "iopub.execute_input": "2024-11-30T05:13:23.377293Z",
     "iopub.status.busy": "2024-11-30T05:13:23.376307Z",
     "iopub.status.idle": "2024-11-30T05:13:23.398683Z",
     "shell.execute_reply": "2024-11-30T05:13:23.397404Z"
    },
    "papermill": {
     "duration": 0.044044,
     "end_time": "2024-11-30T05:13:23.401088",
     "exception": false,
     "start_time": "2024-11-30T05:13:23.357044",
     "status": "completed"
    },
    "tags": []
   },
   "outputs": [],
   "source": [
    "train_df['Gender'] = train_df['Gender'].map({\"Male\":1,\"Female\":2})\n",
    "test_df['Gender'] = test_df['Gender'].map({\"Male\":1,\"Female\":2})"
   ]
  },
  {
   "cell_type": "markdown",
   "id": "4e6d908b",
   "metadata": {
    "papermill": {
     "duration": 0.017843,
     "end_time": "2024-11-30T05:13:23.437095",
     "exception": false,
     "start_time": "2024-11-30T05:13:23.419252",
     "status": "completed"
    },
    "tags": []
   },
   "source": [
    "#### Working Professional or Student column"
   ]
  },
  {
   "cell_type": "code",
   "execution_count": 22,
   "id": "e87ec0cc",
   "metadata": {
    "execution": {
     "iopub.execute_input": "2024-11-30T05:13:23.475526Z",
     "iopub.status.busy": "2024-11-30T05:13:23.474682Z",
     "iopub.status.idle": "2024-11-30T05:13:23.495816Z",
     "shell.execute_reply": "2024-11-30T05:13:23.494710Z"
    },
    "papermill": {
     "duration": 0.042718,
     "end_time": "2024-11-30T05:13:23.498110",
     "exception": false,
     "start_time": "2024-11-30T05:13:23.455392",
     "status": "completed"
    },
    "tags": []
   },
   "outputs": [
    {
     "name": "stdout",
     "output_type": "stream",
     "text": [
      "['Working Professional' 'Student']\n",
      "['Working Professional' 'Student']\n"
     ]
    }
   ],
   "source": [
    "print(train_df['Working Professional or Student'].unique())\n",
    "print(test_df['Working Professional or Student'].unique())"
   ]
  },
  {
   "cell_type": "code",
   "execution_count": 23,
   "id": "a6f0a042",
   "metadata": {
    "execution": {
     "iopub.execute_input": "2024-11-30T05:13:23.539068Z",
     "iopub.status.busy": "2024-11-30T05:13:23.538224Z",
     "iopub.status.idle": "2024-11-30T05:13:23.561864Z",
     "shell.execute_reply": "2024-11-30T05:13:23.560991Z"
    },
    "papermill": {
     "duration": 0.047724,
     "end_time": "2024-11-30T05:13:23.564383",
     "exception": false,
     "start_time": "2024-11-30T05:13:23.516659",
     "status": "completed"
    },
    "tags": []
   },
   "outputs": [],
   "source": [
    "train_df['Working Professional or Student'] = train_df['Working Professional or Student'].map({\"Working Professional\":1,\"Student\":2})\n",
    "test_df['Working Professional or Student'] = test_df['Working Professional or Student'].map({\"Working Professional\":1,\"Student\":2})"
   ]
  },
  {
   "cell_type": "markdown",
   "id": "00b186a2",
   "metadata": {
    "papermill": {
     "duration": 0.017929,
     "end_time": "2024-11-30T05:13:23.600576",
     "exception": false,
     "start_time": "2024-11-30T05:13:23.582647",
     "status": "completed"
    },
    "tags": []
   },
   "source": [
    "#### Have you ever had suicidal thoughts column"
   ]
  },
  {
   "cell_type": "code",
   "execution_count": 24,
   "id": "0860c9d2",
   "metadata": {
    "execution": {
     "iopub.execute_input": "2024-11-30T05:13:23.638599Z",
     "iopub.status.busy": "2024-11-30T05:13:23.638192Z",
     "iopub.status.idle": "2024-11-30T05:13:23.656221Z",
     "shell.execute_reply": "2024-11-30T05:13:23.655084Z"
    },
    "papermill": {
     "duration": 0.039766,
     "end_time": "2024-11-30T05:13:23.658459",
     "exception": false,
     "start_time": "2024-11-30T05:13:23.618693",
     "status": "completed"
    },
    "tags": []
   },
   "outputs": [
    {
     "name": "stdout",
     "output_type": "stream",
     "text": [
      "['No' 'Yes']\n",
      "['No' 'Yes']\n"
     ]
    }
   ],
   "source": [
    "print(train_df['Have you ever had suicidal thoughts ?'].unique())\n",
    "print(test_df['Have you ever had suicidal thoughts ?'].unique()) "
   ]
  },
  {
   "cell_type": "code",
   "execution_count": 25,
   "id": "4417a688",
   "metadata": {
    "execution": {
     "iopub.execute_input": "2024-11-30T05:13:23.707154Z",
     "iopub.status.busy": "2024-11-30T05:13:23.706447Z",
     "iopub.status.idle": "2024-11-30T05:13:23.733853Z",
     "shell.execute_reply": "2024-11-30T05:13:23.732736Z"
    },
    "papermill": {
     "duration": 0.056016,
     "end_time": "2024-11-30T05:13:23.736244",
     "exception": false,
     "start_time": "2024-11-30T05:13:23.680228",
     "status": "completed"
    },
    "tags": []
   },
   "outputs": [],
   "source": [
    "train_df['Have you ever had suicidal thoughts ?'] = train_df['Have you ever had suicidal thoughts ?'].map({\"Yes\":1,\"No\":0})\n",
    "test_df['Have you ever had suicidal thoughts ?'] = test_df['Have you ever had suicidal thoughts ?'].map({\"Yes\":1,\"No\":0})"
   ]
  },
  {
   "cell_type": "markdown",
   "id": "cd4d24bb",
   "metadata": {
    "papermill": {
     "duration": 0.017717,
     "end_time": "2024-11-30T05:13:23.772944",
     "exception": false,
     "start_time": "2024-11-30T05:13:23.755227",
     "status": "completed"
    },
    "tags": []
   },
   "source": [
    "#### Family History of Mental Illness column"
   ]
  },
  {
   "cell_type": "code",
   "execution_count": 26,
   "id": "90c2c030",
   "metadata": {
    "execution": {
     "iopub.execute_input": "2024-11-30T05:13:23.814579Z",
     "iopub.status.busy": "2024-11-30T05:13:23.814162Z",
     "iopub.status.idle": "2024-11-30T05:13:23.836776Z",
     "shell.execute_reply": "2024-11-30T05:13:23.835350Z"
    },
    "papermill": {
     "duration": 0.048832,
     "end_time": "2024-11-30T05:13:23.839853",
     "exception": false,
     "start_time": "2024-11-30T05:13:23.791021",
     "status": "completed"
    },
    "tags": []
   },
   "outputs": [
    {
     "name": "stdout",
     "output_type": "stream",
     "text": [
      "['No' 'Yes']\n",
      "['Yes' 'No']\n"
     ]
    }
   ],
   "source": [
    "print(train_df['Family History of Mental Illness'].unique())\n",
    "print(test_df['Family History of Mental Illness'].unique())"
   ]
  },
  {
   "cell_type": "code",
   "execution_count": 27,
   "id": "92fe8f7a",
   "metadata": {
    "execution": {
     "iopub.execute_input": "2024-11-30T05:13:23.902645Z",
     "iopub.status.busy": "2024-11-30T05:13:23.901846Z",
     "iopub.status.idle": "2024-11-30T05:13:23.930059Z",
     "shell.execute_reply": "2024-11-30T05:13:23.929118Z"
    },
    "papermill": {
     "duration": 0.063175,
     "end_time": "2024-11-30T05:13:23.932430",
     "exception": false,
     "start_time": "2024-11-30T05:13:23.869255",
     "status": "completed"
    },
    "tags": []
   },
   "outputs": [],
   "source": [
    "train_df['Family History of Mental Illness'] = train_df['Family History of Mental Illness'].map({\"Yes\":1,\"No\":0})\n",
    "test_df['Family History of Mental Illness'] = test_df['Family History of Mental Illness'].map({\"Yes\":1,\"No\":0})"
   ]
  },
  {
   "cell_type": "markdown",
   "id": "2bfa62a0",
   "metadata": {
    "papermill": {
     "duration": 0.017873,
     "end_time": "2024-11-30T05:13:23.968819",
     "exception": false,
     "start_time": "2024-11-30T05:13:23.950946",
     "status": "completed"
    },
    "tags": []
   },
   "source": [
    "#### Sleep Duration column"
   ]
  },
  {
   "cell_type": "code",
   "execution_count": 28,
   "id": "61515888",
   "metadata": {
    "execution": {
     "iopub.execute_input": "2024-11-30T05:13:24.014983Z",
     "iopub.status.busy": "2024-11-30T05:13:24.014068Z",
     "iopub.status.idle": "2024-11-30T05:13:24.046793Z",
     "shell.execute_reply": "2024-11-30T05:13:24.045236Z"
    },
    "papermill": {
     "duration": 0.058928,
     "end_time": "2024-11-30T05:13:24.049629",
     "exception": false,
     "start_time": "2024-11-30T05:13:23.990701",
     "status": "completed"
    },
    "tags": []
   },
   "outputs": [
    {
     "name": "stdout",
     "output_type": "stream",
     "text": [
      "['More than 8 hours' 'Less than 5 hours' '5-6 hours' '7-8 hours'\n",
      " 'Sleep_Duration' '1-2 hours' '6-8 hours' '4-6 hours' '6-7 hours'\n",
      " '10-11 hours' '8-9 hours' '40-45 hours' '9-11 hours' '2-3 hours'\n",
      " '3-4 hours' 'Moderate' '55-66 hours' '4-5 hours' '9-6 hours' '1-3 hours'\n",
      " 'Indore' '45' '1-6 hours' '35-36 hours' '8 hours' 'No' '10-6 hours'\n",
      " 'than 5 hours' '49 hours' 'Unhealthy' 'Work_Study_Hours' '3-6 hours'\n",
      " '45-48 hours' '9-5' 'Pune' '9-5 hours']\n",
      "36\n"
     ]
    }
   ],
   "source": [
    "print(train_df['Sleep Duration'].unique())\n",
    "print(len(train_df['Sleep Duration'].unique()))"
   ]
  },
  {
   "cell_type": "code",
   "execution_count": 29,
   "id": "8b987c5c",
   "metadata": {
    "execution": {
     "iopub.execute_input": "2024-11-30T05:13:24.090172Z",
     "iopub.status.busy": "2024-11-30T05:13:24.089324Z",
     "iopub.status.idle": "2024-11-30T05:13:24.107043Z",
     "shell.execute_reply": "2024-11-30T05:13:24.105853Z"
    },
    "papermill": {
     "duration": 0.039558,
     "end_time": "2024-11-30T05:13:24.109303",
     "exception": false,
     "start_time": "2024-11-30T05:13:24.069745",
     "status": "completed"
    },
    "tags": []
   },
   "outputs": [
    {
     "name": "stdout",
     "output_type": "stream",
     "text": [
      "['Less than 5 hours' '7-8 hours' 'More than 8 hours' '5-6 hours' '0'\n",
      " 'Meerut' '9-5 hours' '6-7 hours' '60-65 hours' 'Vivan' '3-4 hours'\n",
      " '1-6 hours' '9-5' 'Unhealthy' '8-9 hours' '4-5 hours' 'than 5 hours'\n",
      " '9-6 hours' '1-2 hours' '8-89 hours'\n",
      " 'Have_you_ever_had_suicidal_thoughts' '20-21 hours' '10-6 hours'\n",
      " '1-3 hours' '6 hours' '50-75 hours' '4-6 hours' '2-3 hours' '9-11 hours'\n",
      " '9-10 hours' '3-6 hours']\n",
      "31\n"
     ]
    }
   ],
   "source": [
    "print(test_df['Sleep Duration'].unique())\n",
    "print(len(test_df['Sleep Duration'].unique()))"
   ]
  },
  {
   "cell_type": "code",
   "execution_count": 30,
   "id": "24d7d037",
   "metadata": {
    "execution": {
     "iopub.execute_input": "2024-11-30T05:13:24.147912Z",
     "iopub.status.busy": "2024-11-30T05:13:24.147549Z",
     "iopub.status.idle": "2024-11-30T05:13:24.175962Z",
     "shell.execute_reply": "2024-11-30T05:13:24.174935Z"
    },
    "papermill": {
     "duration": 0.050226,
     "end_time": "2024-11-30T05:13:24.178103",
     "exception": false,
     "start_time": "2024-11-30T05:13:24.127877",
     "status": "completed"
    },
    "tags": []
   },
   "outputs": [
    {
     "name": "stdout",
     "output_type": "stream",
     "text": [
      "All unique values: {'6-8 hours', '6-7 hours', '35-36 hours', '9-5', '55-66 hours', 'Indore', '4-5 hours', '4-6 hours', '49 hours', '10-11 hours', 'Moderate', '8-89 hours', '7-8 hours', '8-9 hours', '3-6 hours', '0', '9-11 hours', 'Sleep_Duration', '2-3 hours', '10-6 hours', '45-48 hours', '9-6 hours', '9-10 hours', '5-6 hours', '1-2 hours', '9-5 hours', 'Unhealthy', 'Have_you_ever_had_suicidal_thoughts', 'Less than 5 hours', '1-6 hours', 'Meerut', '40-45 hours', 'Work_Study_Hours', '6 hours', '45', 'Vivan', '3-4 hours', 'No', '50-75 hours', '8 hours', 'than 5 hours', '1-3 hours', 'Pune', '60-65 hours', '20-21 hours', 'More than 8 hours'}\n",
      "46\n"
     ]
    }
   ],
   "source": [
    "set1 = set(train_df['Sleep Duration'])\n",
    "set2 = set(test_df['Sleep Duration'])\n",
    "\n",
    "similar = set1 & set2\n",
    "\n",
    "unique_to_df1 = set1 - set2\n",
    "unique_to_df2 = set2 - set1\n",
    "\n",
    "all_unique = set1 | set2\n",
    "\n",
    "#print(\"Similar values:\", similar)\n",
    "#print(\"Unique to df1:\", unique_to_df1)\n",
    "#print(\"Unique to df2:\", unique_to_df2)\n",
    "print(\"All unique values:\", all_unique)\n",
    "print(len(all_unique))"
   ]
  },
  {
   "cell_type": "code",
   "execution_count": 31,
   "id": "02c44fea",
   "metadata": {
    "execution": {
     "iopub.execute_input": "2024-11-30T05:13:24.216819Z",
     "iopub.status.busy": "2024-11-30T05:13:24.216427Z",
     "iopub.status.idle": "2024-11-30T05:13:24.248780Z",
     "shell.execute_reply": "2024-11-30T05:13:24.247914Z"
    },
    "papermill": {
     "duration": 0.054355,
     "end_time": "2024-11-30T05:13:24.251140",
     "exception": false,
     "start_time": "2024-11-30T05:13:24.196785",
     "status": "completed"
    },
    "tags": []
   },
   "outputs": [],
   "source": [
    "sleep_hours_map = {'35-36 hours' : '5-6 hours', #Calculated 35/7\n",
    "                   '50-75 hours' : 'More than 8 hours', #Calculated 50/7 - 75/7 \n",
    "                   'Vivan' : 'Vivan',\n",
    "                   '3-6 hours': 'Less than 5 hours', \n",
    "                   '1-2 hours' : 'Less than 5 hours',\n",
    "                   'No': 'No',\n",
    "                   '10-11 hours' : 'More than 8 hours',\n",
    "                   'Moderate': 'Moderate',\n",
    "                   '10-6 hours' : '7-8 hours', \n",
    "                   'Meerut' : 'Meerut',\n",
    "                   '45-48 hours' : '5-6 hours',   #Calculated 45/7 -  48/7\n",
    "                   '8-89 hours' : 'More than 8 hours', \n",
    "                   '9-5' : '7-8 hours',\n",
    "                   'than 5 hours' : 'Less than 5 hours',\n",
    "                   '1-6 hours' : 'Less than 5 hours',\n",
    "                   '0': '0', \n",
    "                   'Pune': 'Pune',\n",
    "                   '2-3 hours' : 'Less than 5 hours', \n",
    "                   'Unhealthy': 'Unhealthy',\n",
    "                   'Have_you_ever_had_suicidal_thoughts': 'Have_you_ever_had_suicidal_thoughts',\n",
    "                   '8-9 hours' : 'More than 8 hours', \n",
    "                   'More than 8 hours': 'More than 8 hours',\n",
    "                   '7-8 hours': '7-8 hours',\n",
    "                   '20-21 hours' : 'Less than 5 hours',   #calculated 21/7\n",
    "                   '6 hours' : '5-6 hours', \n",
    "                   '55-66 hours' : 'More than 8 hours',   #calculated 55/7 - 66/7\n",
    "                   '9-10 hours' : 'More than 8 hours', \n",
    "                   '9-5 hours' :'7-8 hours', \n",
    "                   '6-8 hours' :'7-8 hours', \n",
    "                   '9-6 hours' :'7-8 hours', \n",
    "                   '8 hours' :'7-8 hours', \n",
    "                   '4-5 hours' : 'Less than 5 hours', \n",
    "                   'Sleep_Duration' : 'Sleep_Duration', \n",
    "                   'Less than 5 hours': 'Less than 5 hours',\n",
    "                   '49 hours' : '7-8 hours',    #calculated 49/7\n",
    "                   '6-7 hours' : '5-6 hours', \n",
    "                   '3-4 hours' : 'Less than 5 hours', \n",
    "                   '5-6 hours': '5-6 hours',\n",
    "                   '40-45 hours' : '5-6 hours', #calculated 40/7 - 45/7\n",
    "                   '45': '5-6 hours',  \n",
    "                   'Indore': 'Indore',\n",
    "                   '60-65 hours': 'More than 8 hours', #calculated 60/7 - 65/7\n",
    "                   'Work_Study_Hours': 'Work_Study_Hours',\n",
    "                   '9-11 hours': 'More than 8 hours', \n",
    "                   '1-3 hours':'Less than 5 hours',\n",
    "                   '4-6 hours':'Less than 5 hours'}\n",
    "\n",
    "train_df['Sleep Duration'] = train_df['Sleep Duration'].map(sleep_hours_map)\n",
    "test_df['Sleep Duration'] = test_df['Sleep Duration'].map(sleep_hours_map)"
   ]
  },
  {
   "cell_type": "code",
   "execution_count": 32,
   "id": "2814b90d",
   "metadata": {
    "execution": {
     "iopub.execute_input": "2024-11-30T05:13:24.289946Z",
     "iopub.status.busy": "2024-11-30T05:13:24.289563Z",
     "iopub.status.idle": "2024-11-30T05:13:24.313147Z",
     "shell.execute_reply": "2024-11-30T05:13:24.312293Z"
    },
    "papermill": {
     "duration": 0.045443,
     "end_time": "2024-11-30T05:13:24.315295",
     "exception": false,
     "start_time": "2024-11-30T05:13:24.269852",
     "status": "completed"
    },
    "tags": []
   },
   "outputs": [],
   "source": [
    "top_4_categories = train_df['Sleep Duration'].value_counts().nlargest(4).index\n",
    "non_top_4_rows = ~train_df['Sleep Duration'].isin(top_4_categories)\n",
    "train_df.loc[non_top_4_rows, 'Sleep Duration'] = np.random.choice(top_4_categories, size=non_top_4_rows.sum(), replace=True)"
   ]
  },
  {
   "cell_type": "code",
   "execution_count": 33,
   "id": "0a99dcc3",
   "metadata": {
    "execution": {
     "iopub.execute_input": "2024-11-30T05:13:24.354316Z",
     "iopub.status.busy": "2024-11-30T05:13:24.353938Z",
     "iopub.status.idle": "2024-11-30T05:13:24.371447Z",
     "shell.execute_reply": "2024-11-30T05:13:24.370409Z"
    },
    "papermill": {
     "duration": 0.039761,
     "end_time": "2024-11-30T05:13:24.373762",
     "exception": false,
     "start_time": "2024-11-30T05:13:24.334001",
     "status": "completed"
    },
    "tags": []
   },
   "outputs": [],
   "source": [
    "top_4_categories = test_df['Sleep Duration'].value_counts().nlargest(4).index\n",
    "non_top_4_rows = ~test_df['Sleep Duration'].isin(top_4_categories)\n",
    "test_df.loc[non_top_4_rows, 'Sleep Duration'] = np.random.choice(top_4_categories, size=non_top_4_rows.sum(), replace=True)"
   ]
  },
  {
   "cell_type": "code",
   "execution_count": 34,
   "id": "2c89f282",
   "metadata": {
    "execution": {
     "iopub.execute_input": "2024-11-30T05:13:24.412195Z",
     "iopub.status.busy": "2024-11-30T05:13:24.411846Z",
     "iopub.status.idle": "2024-11-30T05:13:24.436827Z",
     "shell.execute_reply": "2024-11-30T05:13:24.436005Z"
    },
    "papermill": {
     "duration": 0.04702,
     "end_time": "2024-11-30T05:13:24.439085",
     "exception": false,
     "start_time": "2024-11-30T05:13:24.392065",
     "status": "completed"
    },
    "tags": []
   },
   "outputs": [],
   "source": [
    "train_df['Sleep Duration'] = train_df['Sleep Duration'].map({\"Less than 5 hours\":1,\"7-8 hours\":2,\"More than 8 hours\":3,\"5-6 hours\":4})\n",
    "test_df['Sleep Duration'] = test_df['Sleep Duration'].map({\"Less than 5 hours\":1,\"7-8 hours\":2,\"More than 8 hours\":3,\"5-6 hours\":4})"
   ]
  },
  {
   "cell_type": "code",
   "execution_count": 35,
   "id": "00250292",
   "metadata": {
    "execution": {
     "iopub.execute_input": "2024-11-30T05:13:24.477775Z",
     "iopub.status.busy": "2024-11-30T05:13:24.477387Z",
     "iopub.status.idle": "2024-11-30T05:13:24.486494Z",
     "shell.execute_reply": "2024-11-30T05:13:24.485396Z"
    },
    "papermill": {
     "duration": 0.030631,
     "end_time": "2024-11-30T05:13:24.488463",
     "exception": false,
     "start_time": "2024-11-30T05:13:24.457832",
     "status": "completed"
    },
    "tags": []
   },
   "outputs": [
    {
     "data": {
      "text/plain": [
       "Sleep Duration\n",
       "1    38825\n",
       "2    36980\n",
       "3    32735\n",
       "4    32160\n",
       "Name: count, dtype: int64"
      ]
     },
     "execution_count": 35,
     "metadata": {},
     "output_type": "execute_result"
    }
   ],
   "source": [
    "train_df['Sleep Duration'].value_counts()"
   ]
  },
  {
   "cell_type": "markdown",
   "id": "20c47e59",
   "metadata": {
    "papermill": {
     "duration": 0.01831,
     "end_time": "2024-11-30T05:13:24.525526",
     "exception": false,
     "start_time": "2024-11-30T05:13:24.507216",
     "status": "completed"
    },
    "tags": []
   },
   "source": [
    "####  Dietary Habits column"
   ]
  },
  {
   "cell_type": "code",
   "execution_count": 36,
   "id": "fa24a796",
   "metadata": {
    "execution": {
     "iopub.execute_input": "2024-11-30T05:13:24.564120Z",
     "iopub.status.busy": "2024-11-30T05:13:24.563737Z",
     "iopub.status.idle": "2024-11-30T05:13:24.580550Z",
     "shell.execute_reply": "2024-11-30T05:13:24.579475Z"
    },
    "papermill": {
     "duration": 0.038714,
     "end_time": "2024-11-30T05:13:24.582772",
     "exception": false,
     "start_time": "2024-11-30T05:13:24.544058",
     "status": "completed"
    },
    "tags": []
   },
   "outputs": [
    {
     "name": "stdout",
     "output_type": "stream",
     "text": [
      "['Healthy' 'Unhealthy' 'Moderate' 'Yes' 'Pratham' 'BSc' 'Gender' '3'\n",
      " 'More Healthy' 'Less than Healthy' 'Mihir' '1.0' 'Hormonal' 'Electrician'\n",
      " nan 'No Healthy' 'Less Healthy' 'M.Tech' 'Vegas' 'No' 'Male' 'Indoor'\n",
      " 'Class 12' '2']\n",
      "['Moderate' 'Healthy' 'Unhealthy' 'More Healthy' 'No' 'Indoor' 'Prachi'\n",
      " nan 'Male' 'Less Healthy' 'Mealy' 'Resistant' 'MCA' '5 Healthy'\n",
      " 'Academic' 'Educational' 'Soham' '5 Unhealthy' 'Vivaan' 'Raghav' '1.0'\n",
      " 'Naina' 'Kolkata']\n"
     ]
    }
   ],
   "source": [
    "print(train_df['Dietary Habits'].unique())\n",
    "print(test_df['Dietary Habits'].unique())"
   ]
  },
  {
   "cell_type": "code",
   "execution_count": 37,
   "id": "0f44de81",
   "metadata": {
    "execution": {
     "iopub.execute_input": "2024-11-30T05:13:24.622058Z",
     "iopub.status.busy": "2024-11-30T05:13:24.621077Z",
     "iopub.status.idle": "2024-11-30T05:13:24.646733Z",
     "shell.execute_reply": "2024-11-30T05:13:24.645649Z"
    },
    "papermill": {
     "duration": 0.048024,
     "end_time": "2024-11-30T05:13:24.649315",
     "exception": false,
     "start_time": "2024-11-30T05:13:24.601291",
     "status": "completed"
    },
    "tags": []
   },
   "outputs": [
    {
     "name": "stdout",
     "output_type": "stream",
     "text": [
      "Dietary Habits\n",
      "Moderate             49705\n",
      "Unhealthy            46227\n",
      "Healthy              44741\n",
      "Yes                      2\n",
      "No                       2\n",
      "More Healthy             2\n",
      "No Healthy               1\n",
      "Class 12                 1\n",
      "Indoor                   1\n",
      "Male                     1\n",
      "Vegas                    1\n",
      "M.Tech                   1\n",
      "Less Healthy             1\n",
      "1.0                      1\n",
      "Electrician              1\n",
      "Hormonal                 1\n",
      "Mihir                    1\n",
      "Less than Healthy        1\n",
      "3                        1\n",
      "Gender                   1\n",
      "BSc                      1\n",
      "Pratham                  1\n",
      "2                        1\n",
      "Name: count, dtype: int64\n",
      "Dietary Habits\n",
      "Moderate        33018\n",
      "Unhealthy       30786\n",
      "Healthy         29966\n",
      "No                  6\n",
      "More Healthy        2\n",
      "Academic            1\n",
      "Naina               1\n",
      "1.0                 1\n",
      "Raghav              1\n",
      "Vivaan              1\n",
      "5 Unhealthy         1\n",
      "Soham               1\n",
      "Educational         1\n",
      "MCA                 1\n",
      "5 Healthy           1\n",
      "Resistant           1\n",
      "Mealy               1\n",
      "Less Healthy        1\n",
      "Male                1\n",
      "Prachi              1\n",
      "Indoor              1\n",
      "Kolkata             1\n",
      "Name: count, dtype: int64\n"
     ]
    }
   ],
   "source": [
    "print(train_df['Dietary Habits'].value_counts())\n",
    "print(test_df['Dietary Habits'].value_counts())"
   ]
  },
  {
   "cell_type": "code",
   "execution_count": 38,
   "id": "60d809e9",
   "metadata": {
    "execution": {
     "iopub.execute_input": "2024-11-30T05:13:24.688844Z",
     "iopub.status.busy": "2024-11-30T05:13:24.688030Z",
     "iopub.status.idle": "2024-11-30T05:13:24.716194Z",
     "shell.execute_reply": "2024-11-30T05:13:24.715136Z"
    },
    "papermill": {
     "duration": 0.050238,
     "end_time": "2024-11-30T05:13:24.718427",
     "exception": false,
     "start_time": "2024-11-30T05:13:24.668189",
     "status": "completed"
    },
    "tags": []
   },
   "outputs": [],
   "source": [
    "top_3_categories = train_df['Dietary Habits'].value_counts().nlargest(3).index\n",
    "non_top_3_rows = ~train_df['Dietary Habits'].isin(top_3_categories)\n",
    "train_df.loc[non_top_3_rows, 'Dietary Habits'] = np.random.choice(top_3_categories, size=non_top_3_rows.sum(), replace=True)"
   ]
  },
  {
   "cell_type": "code",
   "execution_count": 39,
   "id": "5c4aeb3d",
   "metadata": {
    "execution": {
     "iopub.execute_input": "2024-11-30T05:13:24.758654Z",
     "iopub.status.busy": "2024-11-30T05:13:24.757741Z",
     "iopub.status.idle": "2024-11-30T05:13:24.778051Z",
     "shell.execute_reply": "2024-11-30T05:13:24.776960Z"
    },
    "papermill": {
     "duration": 0.042408,
     "end_time": "2024-11-30T05:13:24.780101",
     "exception": false,
     "start_time": "2024-11-30T05:13:24.737693",
     "status": "completed"
    },
    "tags": []
   },
   "outputs": [],
   "source": [
    "top_3_categories = test_df['Dietary Habits'].value_counts().nlargest(3).index\n",
    "non_top_3_rows = ~test_df['Dietary Habits'].isin(top_3_categories)\n",
    "test_df.loc[non_top_3_rows, 'Dietary Habits'] = np.random.choice(top_3_categories, size=non_top_3_rows.sum(), replace=True)"
   ]
  },
  {
   "cell_type": "code",
   "execution_count": 40,
   "id": "ed6c5831",
   "metadata": {
    "execution": {
     "iopub.execute_input": "2024-11-30T05:13:24.819508Z",
     "iopub.status.busy": "2024-11-30T05:13:24.818711Z",
     "iopub.status.idle": "2024-11-30T05:13:24.844006Z",
     "shell.execute_reply": "2024-11-30T05:13:24.842895Z"
    },
    "papermill": {
     "duration": 0.047515,
     "end_time": "2024-11-30T05:13:24.846499",
     "exception": false,
     "start_time": "2024-11-30T05:13:24.798984",
     "status": "completed"
    },
    "tags": []
   },
   "outputs": [],
   "source": [
    "train_df['Dietary Habits'] = train_df['Dietary Habits'].map({\"Moderate\":1,\"Unhealthy\":2,\"Healthy\":3})\n",
    "test_df['Dietary Habits'] = test_df['Dietary Habits'].map({\"Moderate\":1,\"Unhealthy\":2,\"Healthy\":3})"
   ]
  },
  {
   "cell_type": "markdown",
   "id": "b1824086",
   "metadata": {
    "papermill": {
     "duration": 0.019538,
     "end_time": "2024-11-30T05:13:24.885674",
     "exception": false,
     "start_time": "2024-11-30T05:13:24.866136",
     "status": "completed"
    },
    "tags": []
   },
   "source": [
    "#### Work/Study Hours column"
   ]
  },
  {
   "cell_type": "code",
   "execution_count": 41,
   "id": "2e5a284b",
   "metadata": {
    "execution": {
     "iopub.execute_input": "2024-11-30T05:13:24.925895Z",
     "iopub.status.busy": "2024-11-30T05:13:24.924940Z",
     "iopub.status.idle": "2024-11-30T05:13:24.933857Z",
     "shell.execute_reply": "2024-11-30T05:13:24.932874Z"
    },
    "papermill": {
     "duration": 0.03155,
     "end_time": "2024-11-30T05:13:24.935869",
     "exception": false,
     "start_time": "2024-11-30T05:13:24.904319",
     "status": "completed"
    },
    "tags": []
   },
   "outputs": [
    {
     "name": "stdout",
     "output_type": "stream",
     "text": [
      "[ 1.  7.  3. 10.  9.  6.  8.  2.  0.  5. 12.  4. 11.]\n",
      "[ 9.  6. 12. 10.  3.  0.  8.  5.  4. 11.  7.  1.  2.]\n"
     ]
    }
   ],
   "source": [
    "print(train_df['Work/Study Hours'].unique())\n",
    "print(test_df['Work/Study Hours'].unique())"
   ]
  },
  {
   "cell_type": "code",
   "execution_count": 42,
   "id": "484d1fce",
   "metadata": {
    "execution": {
     "iopub.execute_input": "2024-11-30T05:13:24.975873Z",
     "iopub.status.busy": "2024-11-30T05:13:24.975033Z",
     "iopub.status.idle": "2024-11-30T05:13:24.982020Z",
     "shell.execute_reply": "2024-11-30T05:13:24.981109Z"
    },
    "papermill": {
     "duration": 0.029198,
     "end_time": "2024-11-30T05:13:24.984072",
     "exception": false,
     "start_time": "2024-11-30T05:13:24.954874",
     "status": "completed"
    },
    "tags": []
   },
   "outputs": [],
   "source": [
    "train_df['Work/Study Hours'] = train_df['Work/Study Hours'].astype(int)\n",
    "test_df['Work/Study Hours'] = test_df['Work/Study Hours'].astype(int)"
   ]
  },
  {
   "cell_type": "markdown",
   "id": "230c0564",
   "metadata": {
    "papermill": {
     "duration": 0.019032,
     "end_time": "2024-11-30T05:13:25.022161",
     "exception": false,
     "start_time": "2024-11-30T05:13:25.003129",
     "status": "completed"
    },
    "tags": []
   },
   "source": [
    "#### Financial Stress column"
   ]
  },
  {
   "cell_type": "code",
   "execution_count": 43,
   "id": "3776da3e",
   "metadata": {
    "execution": {
     "iopub.execute_input": "2024-11-30T05:13:25.061872Z",
     "iopub.status.busy": "2024-11-30T05:13:25.061464Z",
     "iopub.status.idle": "2024-11-30T05:13:25.070596Z",
     "shell.execute_reply": "2024-11-30T05:13:25.069353Z"
    },
    "papermill": {
     "duration": 0.031644,
     "end_time": "2024-11-30T05:13:25.072782",
     "exception": false,
     "start_time": "2024-11-30T05:13:25.041138",
     "status": "completed"
    },
    "tags": []
   },
   "outputs": [
    {
     "name": "stdout",
     "output_type": "stream",
     "text": [
      "[ 2.  3.  1.  4.  5. nan]\n",
      "[3. 4. 2. 1. 5.]\n"
     ]
    }
   ],
   "source": [
    "print(train_df['Financial Stress'].unique())\n",
    "print(test_df['Financial Stress'].unique())"
   ]
  },
  {
   "cell_type": "code",
   "execution_count": 44,
   "id": "8f669627",
   "metadata": {
    "execution": {
     "iopub.execute_input": "2024-11-30T05:13:25.112485Z",
     "iopub.status.busy": "2024-11-30T05:13:25.112094Z",
     "iopub.status.idle": "2024-11-30T05:13:25.123312Z",
     "shell.execute_reply": "2024-11-30T05:13:25.122280Z"
    },
    "papermill": {
     "duration": 0.03365,
     "end_time": "2024-11-30T05:13:25.125496",
     "exception": false,
     "start_time": "2024-11-30T05:13:25.091846",
     "status": "completed"
    },
    "tags": []
   },
   "outputs": [],
   "source": [
    "train_df['Financial Stress'] = train_df['Financial Stress'].fillna(train_df['Financial Stress'].median())"
   ]
  },
  {
   "cell_type": "code",
   "execution_count": 45,
   "id": "f8f30562",
   "metadata": {
    "execution": {
     "iopub.execute_input": "2024-11-30T05:13:25.165306Z",
     "iopub.status.busy": "2024-11-30T05:13:25.164932Z",
     "iopub.status.idle": "2024-11-30T05:13:25.171274Z",
     "shell.execute_reply": "2024-11-30T05:13:25.170472Z"
    },
    "papermill": {
     "duration": 0.028496,
     "end_time": "2024-11-30T05:13:25.173290",
     "exception": false,
     "start_time": "2024-11-30T05:13:25.144794",
     "status": "completed"
    },
    "tags": []
   },
   "outputs": [],
   "source": [
    "train_df['Financial Stress'] = train_df['Financial Stress'].astype(int)\n",
    "test_df['Financial Stress'] = test_df['Financial Stress'].astype(int)"
   ]
  },
  {
   "cell_type": "code",
   "execution_count": 46,
   "id": "97b0ef12",
   "metadata": {
    "execution": {
     "iopub.execute_input": "2024-11-30T05:13:25.213235Z",
     "iopub.status.busy": "2024-11-30T05:13:25.212851Z",
     "iopub.status.idle": "2024-11-30T05:13:25.219620Z",
     "shell.execute_reply": "2024-11-30T05:13:25.218571Z"
    },
    "papermill": {
     "duration": 0.02904,
     "end_time": "2024-11-30T05:13:25.221736",
     "exception": false,
     "start_time": "2024-11-30T05:13:25.192696",
     "status": "completed"
    },
    "tags": []
   },
   "outputs": [
    {
     "data": {
      "text/plain": [
       "Index(['Gender', 'Age', 'Working Professional or Student', 'Profession',\n",
       "       'Work Pressure', 'Job Satisfaction', 'Sleep Duration', 'Dietary Habits',\n",
       "       'Degree', 'Have you ever had suicidal thoughts ?', 'Work/Study Hours',\n",
       "       'Financial Stress', 'Family History of Mental Illness', 'Depression'],\n",
       "      dtype='object')"
      ]
     },
     "execution_count": 46,
     "metadata": {},
     "output_type": "execute_result"
    }
   ],
   "source": [
    "train_df.columns"
   ]
  },
  {
   "cell_type": "markdown",
   "id": "423f3a3b",
   "metadata": {
    "papermill": {
     "duration": 0.018827,
     "end_time": "2024-11-30T05:13:25.259607",
     "exception": false,
     "start_time": "2024-11-30T05:13:25.240780",
     "status": "completed"
    },
    "tags": []
   },
   "source": [
    "#### Work Pressure,Job Satisfaction & Profession columns"
   ]
  },
  {
   "cell_type": "code",
   "execution_count": 47,
   "id": "7afb6c64",
   "metadata": {
    "execution": {
     "iopub.execute_input": "2024-11-30T05:13:25.301141Z",
     "iopub.status.busy": "2024-11-30T05:13:25.300758Z",
     "iopub.status.idle": "2024-11-30T05:13:25.310361Z",
     "shell.execute_reply": "2024-11-30T05:13:25.309134Z"
    },
    "papermill": {
     "duration": 0.032936,
     "end_time": "2024-11-30T05:13:25.312581",
     "exception": false,
     "start_time": "2024-11-30T05:13:25.279645",
     "status": "completed"
    },
    "tags": []
   },
   "outputs": [
    {
     "name": "stdout",
     "output_type": "stream",
     "text": [
      "[ 5.  4. nan  1.  2.  3.]\n",
      "[ 2.  4. nan  5.  1.  3.]\n"
     ]
    }
   ],
   "source": [
    "print(train_df['Work Pressure'].unique())\n",
    "print(test_df['Work Pressure'].unique())"
   ]
  },
  {
   "cell_type": "code",
   "execution_count": 48,
   "id": "9782993b",
   "metadata": {
    "execution": {
     "iopub.execute_input": "2024-11-30T05:13:25.353214Z",
     "iopub.status.busy": "2024-11-30T05:13:25.352833Z",
     "iopub.status.idle": "2024-11-30T05:13:25.361755Z",
     "shell.execute_reply": "2024-11-30T05:13:25.360543Z"
    },
    "papermill": {
     "duration": 0.032172,
     "end_time": "2024-11-30T05:13:25.364014",
     "exception": false,
     "start_time": "2024-11-30T05:13:25.331842",
     "status": "completed"
    },
    "tags": []
   },
   "outputs": [
    {
     "name": "stdout",
     "output_type": "stream",
     "text": [
      "[ 2.  3. nan  1.  5.  4.]\n",
      "[ 5.  4.  1. nan  3.  2.]\n"
     ]
    }
   ],
   "source": [
    "print(train_df['Job Satisfaction'].unique())\n",
    "print(test_df['Job Satisfaction'].unique())"
   ]
  },
  {
   "cell_type": "code",
   "execution_count": 49,
   "id": "5b89b01c",
   "metadata": {
    "execution": {
     "iopub.execute_input": "2024-11-30T05:13:25.406592Z",
     "iopub.status.busy": "2024-11-30T05:13:25.405907Z",
     "iopub.status.idle": "2024-11-30T05:13:25.411591Z",
     "shell.execute_reply": "2024-11-30T05:13:25.410513Z"
    },
    "papermill": {
     "duration": 0.029851,
     "end_time": "2024-11-30T05:13:25.413706",
     "exception": false,
     "start_time": "2024-11-30T05:13:25.383855",
     "status": "completed"
    },
    "tags": []
   },
   "outputs": [
    {
     "name": "stdout",
     "output_type": "stream",
     "text": [
      "(140700, 14)\n",
      "(93800, 13)\n"
     ]
    }
   ],
   "source": [
    "print(train_df.shape)\n",
    "print(test_df.shape)"
   ]
  },
  {
   "cell_type": "code",
   "execution_count": 50,
   "id": "d2c317c2",
   "metadata": {
    "execution": {
     "iopub.execute_input": "2024-11-30T05:13:25.456211Z",
     "iopub.status.busy": "2024-11-30T05:13:25.455215Z",
     "iopub.status.idle": "2024-11-30T05:13:25.463082Z",
     "shell.execute_reply": "2024-11-30T05:13:25.461964Z"
    },
    "papermill": {
     "duration": 0.031763,
     "end_time": "2024-11-30T05:13:25.465471",
     "exception": false,
     "start_time": "2024-11-30T05:13:25.433708",
     "status": "completed"
    },
    "tags": []
   },
   "outputs": [],
   "source": [
    "def handle_nan_rows(df, col):\n",
    "    nan_condition = df[['Profession', 'Work Pressure', 'Job Satisfaction']].isna().all(axis=1)\n",
    "    rows_to_change = nan_condition & (df[col] == 2)\n",
    "    \n",
    "    df.loc[rows_to_change, 'Profession'] = 'Student'\n",
    "    df.loc[rows_to_change, 'Work Pressure'] = float(0)\n",
    "    df.loc[rows_to_change, 'Job Satisfaction'] = float(0)\n",
    "\n",
    "    return df"
   ]
  },
  {
   "cell_type": "code",
   "execution_count": 51,
   "id": "67b3eae1",
   "metadata": {
    "execution": {
     "iopub.execute_input": "2024-11-30T05:13:25.508159Z",
     "iopub.status.busy": "2024-11-30T05:13:25.507777Z",
     "iopub.status.idle": "2024-11-30T05:13:25.513737Z",
     "shell.execute_reply": "2024-11-30T05:13:25.512741Z"
    },
    "papermill": {
     "duration": 0.029554,
     "end_time": "2024-11-30T05:13:25.515782",
     "exception": false,
     "start_time": "2024-11-30T05:13:25.486228",
     "status": "completed"
    },
    "tags": []
   },
   "outputs": [],
   "source": [
    "def handle_nan_rows_2(df):\n",
    "    rows_to_update = (df['Working Professional or Student']==1) & (df['Degree']=='Class 12')\n",
    "    df.loc[rows_to_update, 'Profession'] = 'Worker'\n",
    "\n",
    "    rows_to_manipulate = (df['Working Professional or Student'] == 2) & pd.isna(df['Profession'])\n",
    "    df.loc[rows_to_manipulate, 'Profession'] = 'Student'\n",
    "    df.loc[rows_to_manipulate, 'Work Pressure'] = float(0)\n",
    "    df.loc[rows_to_manipulate, 'Job Satisfaction'] = float(0)\n",
    "\n",
    "    return df\n",
    "    "
   ]
  },
  {
   "cell_type": "code",
   "execution_count": 52,
   "id": "db388d60",
   "metadata": {
    "execution": {
     "iopub.execute_input": "2024-11-30T05:13:25.556575Z",
     "iopub.status.busy": "2024-11-30T05:13:25.556168Z",
     "iopub.status.idle": "2024-11-30T05:13:25.622851Z",
     "shell.execute_reply": "2024-11-30T05:13:25.621954Z"
    },
    "papermill": {
     "duration": 0.090124,
     "end_time": "2024-11-30T05:13:25.625147",
     "exception": false,
     "start_time": "2024-11-30T05:13:25.535023",
     "status": "completed"
    },
    "tags": []
   },
   "outputs": [],
   "source": [
    "train_df = handle_nan_rows(train_df, 'Working Professional or Student')\n",
    "test_df = handle_nan_rows(test_df, 'Working Professional or Student')\n",
    "train_df = handle_nan_rows_2(train_df)\n",
    "test_df = handle_nan_rows_2(test_df)"
   ]
  },
  {
   "cell_type": "code",
   "execution_count": 53,
   "id": "e42acfe3",
   "metadata": {
    "execution": {
     "iopub.execute_input": "2024-11-30T05:13:25.665109Z",
     "iopub.status.busy": "2024-11-30T05:13:25.664712Z",
     "iopub.status.idle": "2024-11-30T05:13:25.670474Z",
     "shell.execute_reply": "2024-11-30T05:13:25.669384Z"
    },
    "papermill": {
     "duration": 0.028465,
     "end_time": "2024-11-30T05:13:25.672819",
     "exception": false,
     "start_time": "2024-11-30T05:13:25.644354",
     "status": "completed"
    },
    "tags": []
   },
   "outputs": [
    {
     "name": "stdout",
     "output_type": "stream",
     "text": [
      "(140700, 14)\n",
      "(93800, 13)\n"
     ]
    }
   ],
   "source": [
    "print(train_df.shape)\n",
    "print(test_df.shape)"
   ]
  },
  {
   "cell_type": "code",
   "execution_count": 54,
   "id": "93c21668",
   "metadata": {
    "execution": {
     "iopub.execute_input": "2024-11-30T05:13:25.715015Z",
     "iopub.status.busy": "2024-11-30T05:13:25.714264Z",
     "iopub.status.idle": "2024-11-30T05:13:25.735300Z",
     "shell.execute_reply": "2024-11-30T05:13:25.734122Z"
    },
    "papermill": {
     "duration": 0.045325,
     "end_time": "2024-11-30T05:13:25.737531",
     "exception": false,
     "start_time": "2024-11-30T05:13:25.692206",
     "status": "completed"
    },
    "tags": []
   },
   "outputs": [
    {
     "name": "stdout",
     "output_type": "stream",
     "text": [
      "173\n",
      "145\n",
      "54\n",
      "36\n",
      "51\n",
      "35\n"
     ]
    }
   ],
   "source": [
    "print(train_df['Profession'].isna().sum())\n",
    "print(test_df['Profession'].isna().sum())\n",
    "print(train_df['Work Pressure'].isna().sum())\n",
    "print(test_df['Work Pressure'].isna().sum())\n",
    "print(train_df['Job Satisfaction'].isna().sum())\n",
    "print(test_df['Job Satisfaction'].isna().sum())"
   ]
  },
  {
   "cell_type": "code",
   "execution_count": 55,
   "id": "90539310",
   "metadata": {
    "execution": {
     "iopub.execute_input": "2024-11-30T05:13:25.778560Z",
     "iopub.status.busy": "2024-11-30T05:13:25.777552Z",
     "iopub.status.idle": "2024-11-30T05:13:25.797377Z",
     "shell.execute_reply": "2024-11-30T05:13:25.796394Z"
    },
    "papermill": {
     "duration": 0.04261,
     "end_time": "2024-11-30T05:13:25.799477",
     "exception": false,
     "start_time": "2024-11-30T05:13:25.756867",
     "status": "completed"
    },
    "tags": []
   },
   "outputs": [
    {
     "data": {
      "text/plain": [
       "Working Professional or Student\n",
       "1    173\n",
       "Name: count, dtype: int64"
      ]
     },
     "execution_count": 55,
     "metadata": {},
     "output_type": "execute_result"
    }
   ],
   "source": [
    "train_df[train_df[['Profession']].isna().all(axis=1)]['Working Professional or Student'].value_counts()"
   ]
  },
  {
   "cell_type": "code",
   "execution_count": 56,
   "id": "fc8ac703",
   "metadata": {
    "execution": {
     "iopub.execute_input": "2024-11-30T05:13:25.840150Z",
     "iopub.status.busy": "2024-11-30T05:13:25.839231Z",
     "iopub.status.idle": "2024-11-30T05:13:25.864627Z",
     "shell.execute_reply": "2024-11-30T05:13:25.863767Z"
    },
    "papermill": {
     "duration": 0.047993,
     "end_time": "2024-11-30T05:13:25.866685",
     "exception": false,
     "start_time": "2024-11-30T05:13:25.818692",
     "status": "completed"
    },
    "tags": []
   },
   "outputs": [],
   "source": [
    "top_37_categories = train_df['Profession'].value_counts().nlargest(37).index\n",
    "non_top_37_rows = ~train_df['Profession'].isin(top_37_categories)\n",
    "train_df.loc[non_top_37_rows, 'Profession'] = np.random.choice(top_37_categories, size=non_top_37_rows.sum(), replace=True)"
   ]
  },
  {
   "cell_type": "code",
   "execution_count": 57,
   "id": "981df82f",
   "metadata": {
    "execution": {
     "iopub.execute_input": "2024-11-30T05:13:25.907270Z",
     "iopub.status.busy": "2024-11-30T05:13:25.906859Z",
     "iopub.status.idle": "2024-11-30T05:13:25.925417Z",
     "shell.execute_reply": "2024-11-30T05:13:25.924568Z"
    },
    "papermill": {
     "duration": 0.041312,
     "end_time": "2024-11-30T05:13:25.927512",
     "exception": false,
     "start_time": "2024-11-30T05:13:25.886200",
     "status": "completed"
    },
    "tags": []
   },
   "outputs": [],
   "source": [
    "top_37_categories = test_df['Profession'].value_counts().nlargest(37).index\n",
    "non_top_37_rows = ~test_df['Profession'].isin(top_37_categories)\n",
    "test_df.loc[non_top_37_rows, 'Profession'] = np.random.choice(top_37_categories, size=non_top_37_rows.sum(), replace=True)"
   ]
  },
  {
   "cell_type": "code",
   "execution_count": 58,
   "id": "290c4264",
   "metadata": {
    "execution": {
     "iopub.execute_input": "2024-11-30T05:13:25.967931Z",
     "iopub.status.busy": "2024-11-30T05:13:25.967329Z",
     "iopub.status.idle": "2024-11-30T05:13:25.992776Z",
     "shell.execute_reply": "2024-11-30T05:13:25.991912Z"
    },
    "papermill": {
     "duration": 0.04821,
     "end_time": "2024-11-30T05:13:25.995159",
     "exception": false,
     "start_time": "2024-11-30T05:13:25.946949",
     "status": "completed"
    },
    "tags": []
   },
   "outputs": [],
   "source": [
    "top_5_categories = train_df['Work Pressure'].value_counts().nlargest(5).index\n",
    "non_top_5_rows = ~train_df['Work Pressure'].isin(top_5_categories)\n",
    "train_df.loc[non_top_5_rows, 'Work Pressure'] = np.random.choice(top_5_categories, size=non_top_5_rows.sum(), replace=True)\n",
    "\n",
    "top_5_categories = test_df['Work Pressure'].value_counts().nlargest(5).index\n",
    "non_top_5_rows = ~test_df['Work Pressure'].isin(top_5_categories)\n",
    "test_df.loc[non_top_5_rows,'Work Pressure'] = np.random.choice(top_5_categories, size=non_top_5_rows.sum(), replace=True)"
   ]
  },
  {
   "cell_type": "code",
   "execution_count": 59,
   "id": "b7b0acf8",
   "metadata": {
    "execution": {
     "iopub.execute_input": "2024-11-30T05:13:26.035709Z",
     "iopub.status.busy": "2024-11-30T05:13:26.035286Z",
     "iopub.status.idle": "2024-11-30T05:13:26.057214Z",
     "shell.execute_reply": "2024-11-30T05:13:26.056398Z"
    },
    "papermill": {
     "duration": 0.044783,
     "end_time": "2024-11-30T05:13:26.059520",
     "exception": false,
     "start_time": "2024-11-30T05:13:26.014737",
     "status": "completed"
    },
    "tags": []
   },
   "outputs": [],
   "source": [
    "top_5_categories = train_df['Job Satisfaction'].value_counts().nlargest(5).index\n",
    "non_top_5_rows = ~train_df['Job Satisfaction'].isin(top_5_categories)\n",
    "train_df.loc[non_top_5_rows, 'Job Satisfaction'] = np.random.choice(top_5_categories, size=non_top_5_rows.sum(), replace=True)\n",
    "\n",
    "top_5_categories = test_df['Job Satisfaction'].value_counts().nlargest(5).index\n",
    "non_top_5_rows = ~test_df['Job Satisfaction'].isin(top_5_categories)\n",
    "test_df.loc[non_top_5_rows, 'Job Satisfaction'] = np.random.choice(top_5_categories, size=non_top_5_rows.sum(), replace=True)"
   ]
  },
  {
   "cell_type": "code",
   "execution_count": 60,
   "id": "fa9cedf8",
   "metadata": {
    "execution": {
     "iopub.execute_input": "2024-11-30T05:13:26.099798Z",
     "iopub.status.busy": "2024-11-30T05:13:26.099411Z",
     "iopub.status.idle": "2024-11-30T05:13:26.107924Z",
     "shell.execute_reply": "2024-11-30T05:13:26.107101Z"
    },
    "papermill": {
     "duration": 0.031128,
     "end_time": "2024-11-30T05:13:26.110113",
     "exception": false,
     "start_time": "2024-11-30T05:13:26.078985",
     "status": "completed"
    },
    "tags": []
   },
   "outputs": [],
   "source": [
    "train_df['Work Pressure'] = train_df['Work Pressure'].astype(int)\n",
    "test_df['Work Pressure'] = test_df['Work Pressure'].astype(int)\n",
    "\n",
    "train_df['Job Satisfaction'] = train_df['Job Satisfaction'].astype(int)\n",
    "test_df['Job Satisfaction'] = test_df['Job Satisfaction'].astype(int)"
   ]
  },
  {
   "cell_type": "markdown",
   "id": "b9343d8c",
   "metadata": {
    "papermill": {
     "duration": 0.019015,
     "end_time": "2024-11-30T05:13:26.149933",
     "exception": false,
     "start_time": "2024-11-30T05:13:26.130918",
     "status": "completed"
    },
    "tags": []
   },
   "source": [
    "####  Degree column"
   ]
  },
  {
   "cell_type": "code",
   "execution_count": 61,
   "id": "8fb2746e",
   "metadata": {
    "execution": {
     "iopub.execute_input": "2024-11-30T05:13:26.191133Z",
     "iopub.status.busy": "2024-11-30T05:13:26.190734Z",
     "iopub.status.idle": "2024-11-30T05:13:26.209554Z",
     "shell.execute_reply": "2024-11-30T05:13:26.208068Z"
    },
    "papermill": {
     "duration": 0.042278,
     "end_time": "2024-11-30T05:13:26.211872",
     "exception": false,
     "start_time": "2024-11-30T05:13:26.169594",
     "status": "completed"
    },
    "tags": []
   },
   "outputs": [
    {
     "name": "stdout",
     "output_type": "stream",
     "text": [
      "['BHM' 'LLB' 'B.Pharm' 'BBA' 'MCA' 'MD' 'BSc' 'ME' 'B.Arch' 'BCA' 'BE'\n",
      " 'MA' 'B.Ed' 'B.Com' 'MBA' 'M.Com' 'MHM' 'BA' 'Class 12' 'M.Tech' 'PhD'\n",
      " 'M.Ed' 'MSc' 'B.Tech' 'LLM' 'MBBS' 'M.Pharm' 'UX/UI Designer' 'MPA' 'BH'\n",
      " 'Nalini' 'BEd' 'B.Sc' 'Veda' 'Bhopal' 'S.Tech' 'Degree' '20' 'Class 11'\n",
      " 'H_Pharm' 'M' 'P.Com' 'BPharm' 'Business Analyst' 'M.Arch' 'LL.Com'\n",
      " 'Data Scientist' 'MPharm' 'L.Ed' 'P.Pharm' 'Kalyan' 'Unite' 'BArch'\n",
      " 'HR Manager' 'Badhya' 'S.Pharm' 'LLBA' 'Vrinda' 'M. Business Analyst'\n",
      " 'Bhavesh' '0' 'LLCom' '29' 'MTech' 'Vivaan' 'BPA' 'Plumber' '5.61' 'Brit'\n",
      " 'B.03' 'Ritik' '5.56' 'MEd' 'B' 'B BA' '7.06' 'B.B.Arch' 'ACA' 'Brithika'\n",
      " 'CGPA' '24' 'M_Tech' 'Pihu' 'BB' 'Jhanvi' 'LLTech' 'Aarav' 'Entrepreneur'\n",
      " '8.56' 'LHM' 'Lata' 'S.Arch' 'Marsh' 'HCA' '5.88' 'B.Student' 'LL B.Ed'\n",
      " 'M.S' 'Navya' 'Mahika' nan 'K.Ed' 'B.3.79' 'Mthanya'\n",
      " 'Working Professional' 'Esha' 'LLS' 'LLEd' 'E.Tech' 'Doctor' 'N.Pharm'\n",
      " 'LCA' 'B B.Com' 'RCA' 'Mihir' 'Advait']\n",
      "['LLB' 'B.Ed' 'B.Arch' 'BSc' 'BCA' 'B.Com' 'MA' 'BA' 'BBA' 'Class 12' 'MD'\n",
      " 'MBA' 'M.Ed' 'M.Pharm' 'BHM' 'LLM' 'PhD' 'M.Com' 'BE' 'MBBS' 'B.Tech'\n",
      " 'ME' 'MCA' 'B.Pharm' 'MHM' 'M.Tech' 'BTech' 'MSc' 'BArch' 'B. Gender'\n",
      " 'B.Study_Hours' 'Advait' 'M.Arch' 'A.Ed' 'Mechanical Engineer' 'B.H'\n",
      " 'B.Sc' 'B' 'M.UI' 'Vibha' 'B BCA' 'B.Press' 'BPharm' 'Gagan' 'MPharm'\n",
      " 'Travel Consultant' '5.65' 'Business Analyst' 'Eshita' 'B_Com' 'Navya'\n",
      " 'B._Pharm' 'Pune' 'Bian' 'B.M.Com' 'Kavya' 'M.M.Ed' 'S.Pharm' 'Vrinda'\n",
      " 'M' 'E.Ed' '3.0' 'Moham' 'B.BA' nan 'I.Ed' 'Degree' 'Magan' 'B B.Tech'\n",
      " 'M.B.Ed' 'Bhopal' 'B Financial Analyst' 'GCA' 'G.Ed' 'Rupak' 'RCA' 'B.CA'\n",
      " 'PCA' 'J.Ed' 'BH' 'BEd' '8.95' 'Aadhya' '20' 'Banchal' 'M.' 'K.Ed' 'BHCA']\n"
     ]
    }
   ],
   "source": [
    "print(train_df['Degree'].unique())\n",
    "print(test_df['Degree'].unique())"
   ]
  },
  {
   "cell_type": "code",
   "execution_count": 62,
   "id": "8c33e11a",
   "metadata": {
    "execution": {
     "iopub.execute_input": "2024-11-30T05:13:26.252735Z",
     "iopub.status.busy": "2024-11-30T05:13:26.252304Z",
     "iopub.status.idle": "2024-11-30T05:13:26.272592Z",
     "shell.execute_reply": "2024-11-30T05:13:26.271499Z"
    },
    "papermill": {
     "duration": 0.043244,
     "end_time": "2024-11-30T05:13:26.274810",
     "exception": false,
     "start_time": "2024-11-30T05:13:26.231566",
     "status": "completed"
    },
    "tags": []
   },
   "outputs": [
    {
     "name": "stdout",
     "output_type": "stream",
     "text": [
      "['BHM' 'LLB' 'B.Pharm' 'BBA' 'MCA' 'MD' 'BSc' 'ME' 'B.Arch' 'BCA' 'BE'\n",
      " 'MA' 'B.Ed' 'B.Com' 'MBA' 'M.Com' 'MHM' 'BA' 'Class 12' 'M.Tech' 'PhD'\n",
      " 'M.Ed' 'MSc' 'B.Tech' 'LLM' 'MBBS' 'M.Pharm' 'UX/UI Designer' 'MPA' 'BH'\n",
      " 'Nalini' 'BEd' 'B.Sc' 'Veda' 'Bhopal' 'S.Tech' 'Degree' '20' 'Class 11'\n",
      " 'H_Pharm' 'M' 'P.Com' 'BPharm' 'Business Analyst' 'M.Arch' 'LL.Com'\n",
      " 'Data Scientist' 'MPharm' 'L.Ed' 'P.Pharm' 'Kalyan' 'Unite' 'BArch'\n",
      " 'HR Manager' 'Badhya' 'S.Pharm' 'LLBA' 'Vrinda' 'M. Business Analyst'\n",
      " 'Bhavesh' '0' 'LLCom' '29' 'MTech' 'Vivaan' 'BPA' 'Plumber' '5.61' 'Brit'\n",
      " 'B.03' 'Ritik' '5.56' 'MEd' 'B' 'B BA' '7.06' 'B.B.Arch' 'ACA' 'Brithika'\n",
      " 'CGPA' '24' 'M_Tech' 'Pihu' 'BB' 'Jhanvi' 'LLTech' 'Aarav' 'Entrepreneur'\n",
      " '8.56' 'LHM' 'Lata' 'S.Arch' 'Marsh' 'HCA' '5.88' 'B.Student' 'LL B.Ed'\n",
      " 'M.S' 'Navya' 'Mahika' nan 'K.Ed' 'B.3.79' 'Mthanya'\n",
      " 'Working Professional' 'Esha' 'LLS' 'LLEd' 'E.Tech' 'Doctor' 'N.Pharm'\n",
      " 'LCA' 'B B.Com' 'RCA' 'Mihir' 'Advait']\n",
      "116\n"
     ]
    }
   ],
   "source": [
    "print(train_df['Degree'].unique())\n",
    "print(len(train_df['Degree'].unique()))"
   ]
  },
  {
   "cell_type": "code",
   "execution_count": 63,
   "id": "d409dca6",
   "metadata": {
    "execution": {
     "iopub.execute_input": "2024-11-30T05:13:26.316128Z",
     "iopub.status.busy": "2024-11-30T05:13:26.315228Z",
     "iopub.status.idle": "2024-11-30T05:13:26.361637Z",
     "shell.execute_reply": "2024-11-30T05:13:26.360695Z"
    },
    "papermill": {
     "duration": 0.069569,
     "end_time": "2024-11-30T05:13:26.363978",
     "exception": false,
     "start_time": "2024-11-30T05:13:26.294409",
     "status": "completed"
    },
    "tags": []
   },
   "outputs": [],
   "source": [
    "mapping_dict = {\n",
    "    # Undergraduate\n",
    "    'UD': ['BHM','B.Pharm','BBA','BSc','B.Arch','BCA','BE','B.Ed', 'B.Com','BA','B.Tech','BB', 'B BA','B.Student', 'BH' , 'BTech', \n",
    "'BEd', 'B.Sc', 'S.Tech', 'H_Pharm', 'P.Com','BPharm', 'MPharm','P.Pharm', 'S.Pharm','BPA',  'B.B.Arch','E.Tech', 'N.Pharm','B B.Com',\n",
    " 'Mechanical Engineer', 'B.H', 'B BCA', 'B.Press',  'B.Pharm','B._Pharm', 'B_Com', 'B.M.Com', 'B.BA', 'B B.Tech', 'B Financial Analyst', 'B.CA', \n",
    "'J.Ed', 'BH', 'BHCA'],\n",
    "    # Postgraduate\n",
    "    'PD': ['LLB','MCA', 'MD','ME','MA',  'MBA', 'M.Com', 'MHM','M.Tech', 'M.Ed', 'MSc', 'LLM', 'MBBS', 'LLS', 'LLEd', 'MPA', 'M.M.Ed', 'I.Ed',\n",
    "'M.Pharm', 'M.Arch','LL.Com', 'L.Ed','LLBA', 'LLCom', 'MTech','MEd','M_Tech', 'LLTech','LL B.Ed', 'M.S',  'LCA','LHM', 'M.UI', 'E.Ed', 'M.B.Ed',\n",
    " 'GCA', 'G.Ed'],\n",
    "    # Doctorate\n",
    "    'Doc': ['PhD'],\n",
    "    # High School\n",
    "    'HS': ['Class 12', 'Class 11'],\n",
    "    # Other\n",
    "    'Noise': ['UX/UI Designer', 'Business Analyst', 'Data Scientist', 'HR Manager','Entrepreneur', 'Doctor', 'Plumber', 'Working Professional', \n",
    "'M. Business Analyst','Veda', 'Bhopal', 'Kalyan', 'Unite', 'BArch', 'S.Arch', 'Navya', 'Advait', 'Badhya', 'Vrinda','Nalini', 'Brit', 'Ritik', \n",
    "'Pihu', 'Jhanvi', 'Vivaan', 'Aarav', 'Mahika','Navya', 'Bhavesh', 'Brithika', 'Mihir', 'Advait', 'Lata', 'Esha', 'Marsh','20', '29', '5.61', 'B. Gender',\n",
    "'5.56', '7.06', '8.56', '5.88', '24', 'B.3.79', 'B.03','Degree', 'CGPA', 'HCA', 'K.Ed','Mthanya', '0', 'ACA', np.nan,'Kavya','3.0', 'Moham',\n",
    "'nan', 'M', 'B', 'RCA','B.Study_Hours', 'A.Ed', 'Vibha', 'Gagan', 'Travel Consultant', '5.65', 'Eshita', 'Pune', 'Bian', 'Magan',\n",
    "'Rupak', 'RCA', 'PCA', '8.95', 'Aadhya', 'Banchal', 'M.']}\n",
    "\n",
    "degree_mapping = {item: key for key, values in mapping_dict.items() for item in values}\n",
    "\n",
    "train_df['Deg_category'] = train_df['Degree'].map(degree_mapping).fillna('unknown')\n",
    "test_df['Deg_category'] = test_df['Degree'].map(degree_mapping).fillna('unknown')"
   ]
  },
  {
   "cell_type": "code",
   "execution_count": 64,
   "id": "e1e7585e",
   "metadata": {
    "execution": {
     "iopub.execute_input": "2024-11-30T05:13:26.405102Z",
     "iopub.status.busy": "2024-11-30T05:13:26.404290Z",
     "iopub.status.idle": "2024-11-30T05:13:26.420249Z",
     "shell.execute_reply": "2024-11-30T05:13:26.419156Z"
    },
    "papermill": {
     "duration": 0.038648,
     "end_time": "2024-11-30T05:13:26.422234",
     "exception": false,
     "start_time": "2024-11-30T05:13:26.383586",
     "status": "completed"
    },
    "tags": []
   },
   "outputs": [
    {
     "data": {
      "text/plain": [
       "Deg_category\n",
       "UD       65805\n",
       "PD       56994\n",
       "HS       14730\n",
       "Doc       3103\n",
       "Noise       68\n",
       "Name: count, dtype: int64"
      ]
     },
     "execution_count": 64,
     "metadata": {},
     "output_type": "execute_result"
    }
   ],
   "source": [
    "train_df['Deg_category'].value_counts()"
   ]
  },
  {
   "cell_type": "code",
   "execution_count": 65,
   "id": "30fc1bdd",
   "metadata": {
    "execution": {
     "iopub.execute_input": "2024-11-30T05:13:26.463741Z",
     "iopub.status.busy": "2024-11-30T05:13:26.462808Z",
     "iopub.status.idle": "2024-11-30T05:13:26.479198Z",
     "shell.execute_reply": "2024-11-30T05:13:26.478396Z"
    },
    "papermill": {
     "duration": 0.039775,
     "end_time": "2024-11-30T05:13:26.481632",
     "exception": false,
     "start_time": "2024-11-30T05:13:26.441857",
     "status": "completed"
    },
    "tags": []
   },
   "outputs": [],
   "source": [
    "train_df['Deg_category'] = train_df['Deg_category'].map({\"UD\":1,\"PD\":2,\"HS\":3,\"Doc\":4,\"Noise\":5})\n",
    "test_df['Deg_category'] = test_df['Deg_category'].map({\"UD\":1,\"PD\":2,\"HS\":3,\"Doc\":4,\"Noise\":5})"
   ]
  },
  {
   "cell_type": "code",
   "execution_count": 66,
   "id": "3f95764b",
   "metadata": {
    "execution": {
     "iopub.execute_input": "2024-11-30T05:13:26.523791Z",
     "iopub.status.busy": "2024-11-30T05:13:26.522863Z",
     "iopub.status.idle": "2024-11-30T05:13:26.548925Z",
     "shell.execute_reply": "2024-11-30T05:13:26.547686Z"
    },
    "papermill": {
     "duration": 0.049245,
     "end_time": "2024-11-30T05:13:26.551417",
     "exception": false,
     "start_time": "2024-11-30T05:13:26.502172",
     "status": "completed"
    },
    "tags": []
   },
   "outputs": [],
   "source": [
    "train_df = train_df.drop(['Degree'], axis=1)\n",
    "test_df = test_df.drop(['Degree'], axis=1)"
   ]
  },
  {
   "cell_type": "code",
   "execution_count": 67,
   "id": "8595e0c5",
   "metadata": {
    "execution": {
     "iopub.execute_input": "2024-11-30T05:13:26.592436Z",
     "iopub.status.busy": "2024-11-30T05:13:26.592067Z",
     "iopub.status.idle": "2024-11-30T05:13:26.611986Z",
     "shell.execute_reply": "2024-11-30T05:13:26.610714Z"
    },
    "papermill": {
     "duration": 0.043201,
     "end_time": "2024-11-30T05:13:26.614658",
     "exception": false,
     "start_time": "2024-11-30T05:13:26.571457",
     "status": "completed"
    },
    "tags": []
   },
   "outputs": [
    {
     "name": "stdout",
     "output_type": "stream",
     "text": [
      "<class 'pandas.core.frame.DataFrame'>\n",
      "RangeIndex: 140700 entries, 0 to 140699\n",
      "Data columns (total 14 columns):\n",
      " #   Column                                 Non-Null Count   Dtype \n",
      "---  ------                                 --------------   ----- \n",
      " 0   Gender                                 140700 non-null  int64 \n",
      " 1   Age                                    140700 non-null  int64 \n",
      " 2   Working Professional or Student        140700 non-null  int64 \n",
      " 3   Profession                             140700 non-null  object\n",
      " 4   Work Pressure                          140700 non-null  int64 \n",
      " 5   Job Satisfaction                       140700 non-null  int64 \n",
      " 6   Sleep Duration                         140700 non-null  int64 \n",
      " 7   Dietary Habits                         140700 non-null  int64 \n",
      " 8   Have you ever had suicidal thoughts ?  140700 non-null  int64 \n",
      " 9   Work/Study Hours                       140700 non-null  int64 \n",
      " 10  Financial Stress                       140700 non-null  int64 \n",
      " 11  Family History of Mental Illness       140700 non-null  int64 \n",
      " 12  Depression                             140700 non-null  int64 \n",
      " 13  Deg_category                           140700 non-null  int64 \n",
      "dtypes: int64(13), object(1)\n",
      "memory usage: 15.0+ MB\n",
      "None\n"
     ]
    }
   ],
   "source": [
    "print(train_df.info())"
   ]
  },
  {
   "cell_type": "markdown",
   "id": "02181cf6",
   "metadata": {
    "papermill": {
     "duration": 0.019433,
     "end_time": "2024-11-30T05:13:26.653990",
     "exception": false,
     "start_time": "2024-11-30T05:13:26.634557",
     "status": "completed"
    },
    "tags": []
   },
   "source": [
    "#### Label Encoding for Profession column"
   ]
  },
  {
   "cell_type": "code",
   "execution_count": 68,
   "id": "3f3a6489",
   "metadata": {
    "execution": {
     "iopub.execute_input": "2024-11-30T05:13:26.694899Z",
     "iopub.status.busy": "2024-11-30T05:13:26.694511Z",
     "iopub.status.idle": "2024-11-30T05:13:26.710394Z",
     "shell.execute_reply": "2024-11-30T05:13:26.709189Z"
    },
    "papermill": {
     "duration": 0.038734,
     "end_time": "2024-11-30T05:13:26.712459",
     "exception": false,
     "start_time": "2024-11-30T05:13:26.673725",
     "status": "completed"
    },
    "tags": []
   },
   "outputs": [
    {
     "data": {
      "text/plain": [
       "array(['Chef', 'Teacher', 'Student', 'Business Analyst',\n",
       "       'Finanancial Analyst', 'Chemist', 'Electrician',\n",
       "       'Software Engineer', 'Data Scientist', 'Plumber',\n",
       "       'Marketing Manager', 'Accountant', 'Entrepreneur', 'HR Manager',\n",
       "       'UX/UI Designer', 'Content Writer', 'Worker',\n",
       "       'Educational Consultant', 'Civil Engineer', 'Manager',\n",
       "       'Pharmacist', 'Financial Analyst', 'Architect',\n",
       "       'Mechanical Engineer', 'Customer Support', 'Consultant', 'Judge',\n",
       "       'Researcher', 'Pilot', 'Graphic Designer', 'Travel Consultant',\n",
       "       'Digital Marketer', 'Lawyer', 'Research Analyst',\n",
       "       'Sales Executive', 'Doctor', 'Investment Banker'], dtype=object)"
      ]
     },
     "execution_count": 68,
     "metadata": {},
     "output_type": "execute_result"
    }
   ],
   "source": [
    "train_df['Profession'].unique()"
   ]
  },
  {
   "cell_type": "code",
   "execution_count": 69,
   "id": "a1317ffb",
   "metadata": {
    "execution": {
     "iopub.execute_input": "2024-11-30T05:13:26.755551Z",
     "iopub.status.busy": "2024-11-30T05:13:26.754948Z",
     "iopub.status.idle": "2024-11-30T05:13:26.789321Z",
     "shell.execute_reply": "2024-11-30T05:13:26.787985Z"
    },
    "papermill": {
     "duration": 0.057599,
     "end_time": "2024-11-30T05:13:26.791626",
     "exception": false,
     "start_time": "2024-11-30T05:13:26.734027",
     "status": "completed"
    },
    "tags": []
   },
   "outputs": [
    {
     "name": "stdout",
     "output_type": "stream",
     "text": [
      "{'Accountant': 0, 'Architect': 1, 'Business Analyst': 2, 'Chef': 3, 'Chemist': 4, 'Civil Engineer': 5, 'Consultant': 6, 'Content Writer': 7, 'Customer Support': 8, 'Data Scientist': 9, 'Digital Marketer': 10, 'Doctor': 11, 'Educational Consultant': 12, 'Electrician': 13, 'Entrepreneur': 14, 'Finanancial Analyst': 15, 'Financial Analyst': 16, 'Graphic Designer': 17, 'HR Manager': 18, 'Investment Banker': 19, 'Judge': 20, 'Lawyer': 21, 'Manager': 22, 'Marketing Manager': 23, 'Mechanical Engineer': 24, 'Pharmacist': 25, 'Pilot': 26, 'Plumber': 27, 'Research Analyst': 28, 'Researcher': 29, 'Sales Executive': 30, 'Software Engineer': 31, 'Student': 32, 'Teacher': 33, 'Travel Consultant': 34, 'UX/UI Designer': 35, 'Worker': 36}\n"
     ]
    }
   ],
   "source": [
    "label_encoder = LabelEncoder()\n",
    "train_df['Pro_encoded'] = label_encoder.fit_transform(train_df['Profession'])\n",
    "\n",
    "profession_mapping = dict(zip(label_encoder.classes_, label_encoder.transform(label_encoder.classes_)))\n",
    "print(profession_mapping)"
   ]
  },
  {
   "cell_type": "code",
   "execution_count": 70,
   "id": "6084da9a",
   "metadata": {
    "execution": {
     "iopub.execute_input": "2024-11-30T05:13:26.834647Z",
     "iopub.status.busy": "2024-11-30T05:13:26.833719Z",
     "iopub.status.idle": "2024-11-30T05:13:26.858724Z",
     "shell.execute_reply": "2024-11-30T05:13:26.857423Z"
    },
    "papermill": {
     "duration": 0.048804,
     "end_time": "2024-11-30T05:13:26.860905",
     "exception": false,
     "start_time": "2024-11-30T05:13:26.812101",
     "status": "completed"
    },
    "tags": []
   },
   "outputs": [
    {
     "name": "stdout",
     "output_type": "stream",
     "text": [
      "{'Accountant': 0, 'Architect': 1, 'Business Analyst': 2, 'Chef': 3, 'Chemist': 4, 'Civil Engineer': 5, 'Consultant': 6, 'Content Writer': 7, 'Customer Support': 8, 'Data Scientist': 9, 'Digital Marketer': 10, 'Doctor': 11, 'Educational Consultant': 12, 'Electrician': 13, 'Entrepreneur': 14, 'Finanancial Analyst': 15, 'Financial Analyst': 16, 'Graphic Designer': 17, 'HR Manager': 18, 'Investment Banker': 19, 'Judge': 20, 'Lawyer': 21, 'Manager': 22, 'Marketing Manager': 23, 'Mechanical Engineer': 24, 'Pharmacist': 25, 'Pilot': 26, 'Plumber': 27, 'Research Analyst': 28, 'Researcher': 29, 'Sales Executive': 30, 'Software Engineer': 31, 'Student': 32, 'Teacher': 33, 'Travel Consultant': 34, 'UX/UI Designer': 35, 'Worker': 36}\n"
     ]
    }
   ],
   "source": [
    "test_df['Pro_encoded'] = label_encoder.fit_transform(test_df['Profession'])\n",
    "\n",
    "profession_mapping = dict(zip(label_encoder.classes_, label_encoder.transform(label_encoder.classes_)))\n",
    "print(profession_mapping)"
   ]
  },
  {
   "cell_type": "code",
   "execution_count": 71,
   "id": "5ee3137a",
   "metadata": {
    "execution": {
     "iopub.execute_input": "2024-11-30T05:13:26.902865Z",
     "iopub.status.busy": "2024-11-30T05:13:26.902488Z",
     "iopub.status.idle": "2024-11-30T05:13:26.920059Z",
     "shell.execute_reply": "2024-11-30T05:13:26.919047Z"
    },
    "papermill": {
     "duration": 0.041375,
     "end_time": "2024-11-30T05:13:26.922552",
     "exception": false,
     "start_time": "2024-11-30T05:13:26.881177",
     "status": "completed"
    },
    "tags": []
   },
   "outputs": [],
   "source": [
    "train_df = train_df.drop(['Profession'], axis=1)\n",
    "test_df = test_df.drop(['Profession'], axis=1)"
   ]
  },
  {
   "cell_type": "markdown",
   "id": "6bb2f1de",
   "metadata": {
    "papermill": {
     "duration": 0.019527,
     "end_time": "2024-11-30T05:13:26.962553",
     "exception": false,
     "start_time": "2024-11-30T05:13:26.943026",
     "status": "completed"
    },
    "tags": []
   },
   "source": [
    "#### Modeling & Tuning"
   ]
  },
  {
   "cell_type": "code",
   "execution_count": 72,
   "id": "98d1fe33",
   "metadata": {
    "execution": {
     "iopub.execute_input": "2024-11-30T05:13:27.003686Z",
     "iopub.status.busy": "2024-11-30T05:13:27.003268Z",
     "iopub.status.idle": "2024-11-30T05:13:27.990891Z",
     "shell.execute_reply": "2024-11-30T05:13:27.989776Z"
    },
    "papermill": {
     "duration": 1.013308,
     "end_time": "2024-11-30T05:13:27.995592",
     "exception": false,
     "start_time": "2024-11-30T05:13:26.982284",
     "status": "completed"
    },
    "tags": []
   },
   "outputs": [
    {
     "data": {
      "image/png": "[encoded data removed]",
      "text/plain": [
       "<Figure size 2000x800 with 2 Axes>"
      ]
     },
     "metadata": {},
     "output_type": "display_data"
    }
   ],
   "source": [
    "corr = train_df.corr()\n",
    "\n",
    "plt.figure(figsize=(20, 8))\n",
    "sns.heatmap(corr, annot=True, cmap='viridis')\n",
    "plt.title('Correlation Heatmap of Cleaned Data')\n",
    "plt.show()"
   ]
  },
  {
   "cell_type": "code",
   "execution_count": 73,
   "id": "7f1fb196",
   "metadata": {
    "execution": {
     "iopub.execute_input": "2024-11-30T05:13:28.044791Z",
     "iopub.status.busy": "2024-11-30T05:13:28.043752Z",
     "iopub.status.idle": "2024-11-30T05:13:28.051160Z",
     "shell.execute_reply": "2024-11-30T05:13:28.050168Z"
    },
    "papermill": {
     "duration": 0.033698,
     "end_time": "2024-11-30T05:13:28.053277",
     "exception": false,
     "start_time": "2024-11-30T05:13:28.019579",
     "status": "completed"
    },
    "tags": []
   },
   "outputs": [
    {
     "name": "stdout",
     "output_type": "stream",
     "text": [
      "Depression                               1.000000\n",
      "Working Professional or Student          0.520790\n",
      "Have you ever had suicidal thoughts ?    0.349066\n",
      "Pro_encoded                              0.274744\n",
      "Financial Stress                         0.227232\n",
      "Work/Study Hours                         0.191746\n",
      "Deg_category                             0.156341\n",
      "Family History of Mental Illness         0.016502\n",
      "Gender                                  -0.008144\n",
      "Dietary Habits                          -0.046147\n",
      "Sleep Duration                          -0.074025\n",
      "Work Pressure                           -0.318149\n",
      "Job Satisfaction                        -0.376572\n",
      "Age                                     -0.564671\n",
      "Name: Depression, dtype: float64\n"
     ]
    }
   ],
   "source": [
    "corr_resp = corr['Depression'].sort_values(ascending=False)\n",
    "print(corr_resp)"
   ]
  },
  {
   "cell_type": "code",
   "execution_count": 74,
   "id": "de8dc56d",
   "metadata": {
    "execution": {
     "iopub.execute_input": "2024-11-30T05:13:28.101932Z",
     "iopub.status.busy": "2024-11-30T05:13:28.101223Z",
     "iopub.status.idle": "2024-11-30T05:13:28.151285Z",
     "shell.execute_reply": "2024-11-30T05:13:28.150352Z"
    },
    "papermill": {
     "duration": 0.076911,
     "end_time": "2024-11-30T05:13:28.153695",
     "exception": false,
     "start_time": "2024-11-30T05:13:28.076784",
     "status": "completed"
    },
    "tags": []
   },
   "outputs": [],
   "source": [
    "labels = train_df['Depression']\n",
    "df = train_df.drop('Depression', axis=1)\n",
    "\n",
    "train_x, test_x, train_y, test_y = train_test_split(df, labels, test_size = 0.25)"
   ]
  },
  {
   "cell_type": "code",
   "execution_count": 75,
   "id": "8cdb4f7c",
   "metadata": {
    "execution": {
     "iopub.execute_input": "2024-11-30T05:13:28.202791Z",
     "iopub.status.busy": "2024-11-30T05:13:28.201958Z",
     "iopub.status.idle": "2024-11-30T05:13:28.208114Z",
     "shell.execute_reply": "2024-11-30T05:13:28.207060Z"
    },
    "papermill": {
     "duration": 0.033393,
     "end_time": "2024-11-30T05:13:28.210455",
     "exception": false,
     "start_time": "2024-11-30T05:13:28.177062",
     "status": "completed"
    },
    "tags": []
   },
   "outputs": [],
   "source": [
    "test_y_pred = pd.Series(index=test_df.index)\n",
    "test_x_pred = test_df"
   ]
  },
  {
   "cell_type": "code",
   "execution_count": 76,
   "id": "ee84304d",
   "metadata": {
    "execution": {
     "iopub.execute_input": "2024-11-30T05:13:28.259789Z",
     "iopub.status.busy": "2024-11-30T05:13:28.259419Z",
     "iopub.status.idle": "2024-11-30T05:13:28.265509Z",
     "shell.execute_reply": "2024-11-30T05:13:28.264429Z"
    },
    "papermill": {
     "duration": 0.033324,
     "end_time": "2024-11-30T05:13:28.267747",
     "exception": false,
     "start_time": "2024-11-30T05:13:28.234423",
     "status": "completed"
    },
    "tags": []
   },
   "outputs": [
    {
     "name": "stdout",
     "output_type": "stream",
     "text": [
      "Train_x Shape:  (105525, 13)\n",
      "Train_y Shape:  (105525,)\n",
      "Test_x Shape:  (35175, 13)\n",
      "Test_y Shape:  (35175,)\n"
     ]
    }
   ],
   "source": [
    "print (\"Train_x Shape: \",train_x.shape)\n",
    "print (\"Train_y Shape: \", train_y.shape)\n",
    "print (\"Test_x Shape: \", test_x.shape)\n",
    "print (\"Test_y Shape: \", test_y.shape)"
   ]
  },
  {
   "cell_type": "code",
   "execution_count": 77,
   "id": "2f5bdc8b",
   "metadata": {
    "execution": {
     "iopub.execute_input": "2024-11-30T05:13:28.316538Z",
     "iopub.status.busy": "2024-11-30T05:13:28.315780Z",
     "iopub.status.idle": "2024-11-30T05:13:30.639697Z",
     "shell.execute_reply": "2024-11-30T05:13:30.637624Z"
    },
    "papermill": {
     "duration": 2.351617,
     "end_time": "2024-11-30T05:13:30.642842",
     "exception": false,
     "start_time": "2024-11-30T05:13:28.291225",
     "status": "completed"
    },
    "tags": []
   },
   "outputs": [
    {
     "name": "stdout",
     "output_type": "stream",
     "text": [
      "LR\n",
      "[[27520  1281]\n",
      " [ 1389  4985]]\n",
      "Accuracy: 0.9240938166311301\n",
      "AUC Score: 0.8688029208840073\n",
      "Precision: 0.7955633578040217\n",
      "Recall: 0.7820834640727957\n",
      "F1 Score: 0.7887658227848101\n"
     ]
    }
   ],
   "source": [
    "LR = LogisticRegression(random_state=42, solver='lbfgs', multi_class='multinomial').fit(train_x,train_y)\n",
    "\n",
    "lr_pred = LR.predict(test_x)\n",
    "\n",
    "print(\"LR\")\n",
    "print(confusion_matrix(test_y, lr_pred))\n",
    "print(\"Accuracy:\",metrics.accuracy_score(test_y, lr_pred))\n",
    "print (\"AUC Score:\", roc_auc_score(test_y, lr_pred))\n",
    "print (\"Precision:\", precision_score(test_y, lr_pred))\n",
    "print (\"Recall:\", recall_score(test_y, lr_pred))\n",
    "print (\"F1 Score:\", f1_score(test_y, lr_pred))"
   ]
  },
  {
   "cell_type": "code",
   "execution_count": 78,
   "id": "2fe3491a",
   "metadata": {
    "execution": {
     "iopub.execute_input": "2024-11-30T05:13:30.694124Z",
     "iopub.status.busy": "2024-11-30T05:13:30.693745Z",
     "iopub.status.idle": "2024-11-30T05:13:40.078846Z",
     "shell.execute_reply": "2024-11-30T05:13:40.077614Z"
    },
    "papermill": {
     "duration": 9.412139,
     "end_time": "2024-11-30T05:13:40.081417",
     "exception": false,
     "start_time": "2024-11-30T05:13:30.669278",
     "status": "completed"
    },
    "tags": []
   },
   "outputs": [
    {
     "name": "stdout",
     "output_type": "stream",
     "text": [
      "RandomForest\n",
      "[[27556  1245]\n",
      " [ 1510  4864]]\n",
      "Accuracy: 0.9216773276474769\n",
      "AUC Score: 0.8599362142131806\n",
      "Precision: 0.7962023244393518\n",
      "Recall: 0.763100094132413\n",
      "F1 Score: 0.7792998477929985\n",
      "                                       importance\n",
      "Age                                      0.278880\n",
      "Have you ever had suicidal thoughts ?    0.123700\n",
      "Work/Study Hours                         0.093338\n",
      "Job Satisfaction                         0.084380\n",
      "Work Pressure                            0.073887\n",
      "Financial Stress                         0.073534\n",
      "Working Professional or Student          0.070117\n",
      "Pro_encoded                              0.055250\n",
      "Sleep Duration                           0.041898\n",
      "Deg_category                             0.035350\n",
      "Dietary Habits                           0.032917\n",
      "Gender                                   0.018728\n",
      "Family History of Mental Illness         0.018019\n"
     ]
    }
   ],
   "source": [
    "rfc = RandomForestClassifier(n_estimators=100, bootstrap=True, random_state=42)\n",
    "rfc.fit(train_x, train_y)\n",
    "\n",
    "rf_pred = rfc.predict(test_x)\n",
    "\n",
    "print(\"RandomForest\")\n",
    "print(confusion_matrix(test_y, rf_pred))\n",
    "print(\"Accuracy:\",metrics.accuracy_score(test_y, rf_pred))\n",
    "print (\"AUC Score:\", roc_auc_score(test_y, rf_pred))\n",
    "print (\"Precision:\", precision_score(test_y, rf_pred))\n",
    "print (\"Recall:\", recall_score(test_y, rf_pred))\n",
    "print (\"F1 Score:\", f1_score(test_y, rf_pred))\n",
    "\n",
    "rf_feat_imp = pd.DataFrame(rfc.feature_importances_,\n",
    "                                    index = train_x.columns,\n",
    "                                     columns=['importance']).sort_values('importance', ascending=False)\n",
    "\n",
    "print(rf_feat_imp)"
   ]
  },
  {
   "cell_type": "code",
   "execution_count": 79,
   "id": "55d808af",
   "metadata": {
    "collapsed": true,
    "execution": {
     "iopub.execute_input": "2024-11-30T05:13:40.131029Z",
     "iopub.status.busy": "2024-11-30T05:13:40.130246Z",
     "iopub.status.idle": "2024-11-30T05:14:17.036479Z",
     "shell.execute_reply": "2024-11-30T05:14:17.034855Z"
    },
    "jupyter": {
     "outputs_hidden": true
    },
    "papermill": {
     "duration": 36.933917,
     "end_time": "2024-11-30T05:14:17.039176",
     "exception": false,
     "start_time": "2024-11-30T05:13:40.105259",
     "status": "completed"
    },
    "tags": []
   },
   "outputs": [
    {
     "name": "stdout",
     "output_type": "stream",
     "text": [
      "Fitting 5 folds for each of 20 candidates, totalling 100 fits\n"
     ]
    }
   ],
   "source": [
    "forest_random_search = {\n",
    "    'max_depth': [5, 10, 15],\n",
    "    'max_features': [None, 'sqrt'],\n",
    "    'min_samples_leaf': [2, 4],\n",
    "    'min_samples_split': [2, 5],\n",
    "    'n_estimators': [5, 8, 10],\n",
    "    'bootstrap': [True] \n",
    "}\n",
    "\n",
    "forest_clf = RandomForestClassifier()\n",
    "\n",
    "forest_model_random = RandomizedSearchCV(\n",
    "    estimator=forest_clf,\n",
    "    param_distributions=forest_random_search,\n",
    "    n_iter=20,\n",
    "    cv=KFold(n_splits=5, shuffle=True, random_state=101),\n",
    "    verbose=5,\n",
    "    random_state=101,\n",
    "    n_jobs=-1\n",
    ")\n",
    "\n",
    "forest_model_random.fit(train_x, train_y)\n",
    "rf_pred_1 = forest_model_random.best_estimator_.predict(test_x)"
   ]
  },
  {
   "cell_type": "code",
   "execution_count": 80,
   "id": "0c346451",
   "metadata": {
    "execution": {
     "iopub.execute_input": "2024-11-30T05:14:17.089753Z",
     "iopub.status.busy": "2024-11-30T05:14:17.088631Z",
     "iopub.status.idle": "2024-11-30T05:14:17.158657Z",
     "shell.execute_reply": "2024-11-30T05:14:17.157411Z"
    },
    "papermill": {
     "duration": 0.098009,
     "end_time": "2024-11-30T05:14:17.161040",
     "exception": false,
     "start_time": "2024-11-30T05:14:17.063031",
     "status": "completed"
    },
    "tags": []
   },
   "outputs": [
    {
     "name": "stdout",
     "output_type": "stream",
     "text": [
      "RandomForest\n",
      "[[27469  1332]\n",
      " [ 1325  5049]]\n",
      "Accuracy: 0.9244633972992182\n",
      "AUC Score: 0.8729379303160418\n",
      "Precision: 0.7912552891396333\n",
      "Recall: 0.7921242547850643\n",
      "F1 Score: 0.791689533516268\n"
     ]
    }
   ],
   "source": [
    "print(\"RandomForest\")\n",
    "print(confusion_matrix(test_y, rf_pred_1))\n",
    "print(\"Accuracy:\",metrics.accuracy_score(test_y, rf_pred_1))\n",
    "print (\"AUC Score:\", roc_auc_score(test_y, rf_pred_1))\n",
    "print (\"Precision:\", precision_score(test_y, rf_pred_1))\n",
    "print (\"Recall:\", recall_score(test_y, rf_pred_1))\n",
    "print (\"F1 Score:\", f1_score(test_y, rf_pred_1))"
   ]
  },
  {
   "cell_type": "code",
   "execution_count": 81,
   "id": "94af4bef",
   "metadata": {
    "execution": {
     "iopub.execute_input": "2024-11-30T05:14:17.210327Z",
     "iopub.status.busy": "2024-11-30T05:14:17.209957Z",
     "iopub.status.idle": "2024-11-30T05:14:27.833323Z",
     "shell.execute_reply": "2024-11-30T05:14:27.832116Z"
    },
    "papermill": {
     "duration": 10.651623,
     "end_time": "2024-11-30T05:14:27.836452",
     "exception": false,
     "start_time": "2024-11-30T05:14:17.184829",
     "status": "completed"
    },
    "tags": []
   },
   "outputs": [
    {
     "name": "stdout",
     "output_type": "stream",
     "text": [
      "Graboosting\n",
      "[[27604  1197]\n",
      " [ 1304  5070]]\n",
      "Accuracy: 0.9288983653162758\n",
      "AUC Score: 0.8769289161648905\n",
      "Precision: 0.8089995213020584\n",
      "Recall: 0.7954188892375275\n",
      "F1 Score: 0.802151728502492\n"
     ]
    }
   ],
   "source": [
    "gb = GradientBoostingClassifier(n_estimators=100, random_state=42)\n",
    "gb = gb.fit(train_x,train_y)\n",
    "\n",
    "gb_pred = gb.predict(test_x)\n",
    "\n",
    "\n",
    "print(\"Graboosting\")\n",
    "print(confusion_matrix(test_y, gb_pred))\n",
    "print(\"Accuracy:\",metrics.accuracy_score(test_y, gb_pred))\n",
    "print (\"AUC Score:\", roc_auc_score(test_y, gb_pred))\n",
    "print (\"Precision:\", precision_score(test_y, gb_pred))\n",
    "print (\"Recall:\", recall_score(test_y, gb_pred))\n",
    "print (\"F1 Score:\", f1_score(test_y, gb_pred))"
   ]
  },
  {
   "cell_type": "code",
   "execution_count": 82,
   "id": "df008e4c",
   "metadata": {
    "collapsed": true,
    "execution": {
     "iopub.execute_input": "2024-11-30T05:14:27.888971Z",
     "iopub.status.busy": "2024-11-30T05:14:27.888561Z",
     "iopub.status.idle": "2024-11-30T05:17:32.007201Z",
     "shell.execute_reply": "2024-11-30T05:17:32.005811Z"
    },
    "jupyter": {
     "outputs_hidden": true
    },
    "papermill": {
     "duration": 184.146812,
     "end_time": "2024-11-30T05:17:32.009536",
     "exception": false,
     "start_time": "2024-11-30T05:14:27.862724",
     "status": "completed"
    },
    "tags": []
   },
   "outputs": [
    {
     "name": "stdout",
     "output_type": "stream",
     "text": [
      "Fitting 5 folds for each of 20 candidates, totalling 100 fits\n",
      "[CV 3/5] END bootstrap=True, max_depth=5, max_features=None, min_samples_leaf=4, min_samples_split=2, n_estimators=5;, score=0.918 total time=   1.1s\n",
      "[CV 3/5] END bootstrap=True, max_depth=15, max_features=None, min_samples_leaf=2, min_samples_split=2, n_estimators=10;, score=0.921 total time=   3.5s\n",
      "[CV 2/5] END bootstrap=True, max_depth=10, max_features=sqrt, min_samples_leaf=2, min_samples_split=5, n_estimators=5;, score=0.922 total time=   0.5s\n",
      "[CV 5/5] END bootstrap=True, max_depth=10, max_features=sqrt, min_samples_leaf=2, min_samples_split=5, n_estimators=5;, score=0.924 total time=   0.5s\n",
      "[CV 3/5] END bootstrap=True, max_depth=10, max_features=None, min_samples_leaf=4, min_samples_split=2, n_estimators=10;, score=0.926 total time=   2.5s\n",
      "[CV 2/5] END bootstrap=True, max_depth=15, max_features=None, min_samples_leaf=4, min_samples_split=5, n_estimators=8;, score=0.921 total time=   2.3s\n",
      "[CV 1/5] END bootstrap=True, max_depth=5, max_features=sqrt, min_samples_leaf=2, min_samples_split=2, n_estimators=8;, score=0.914 total time=   0.5s\n",
      "[CV 2/5] END bootstrap=True, max_depth=5, max_features=sqrt, min_samples_leaf=2, min_samples_split=2, n_estimators=8;, score=0.916 total time=   0.5s\n",
      "[CV 3/5] END bootstrap=True, max_depth=5, max_features=sqrt, min_samples_leaf=2, min_samples_split=2, n_estimators=8;, score=0.916 total time=   0.5s\n",
      "[CV 5/5] END bootstrap=True, max_depth=5, max_features=sqrt, min_samples_leaf=2, min_samples_split=2, n_estimators=8;, score=0.923 total time=   0.5s\n",
      "[CV 3/5] END bootstrap=True, max_depth=10, max_features=None, min_samples_leaf=2, min_samples_split=2, n_estimators=5;, score=0.924 total time=   1.3s\n",
      "[CV 2/5] END bootstrap=True, max_depth=10, max_features=sqrt, min_samples_leaf=2, min_samples_split=2, n_estimators=8;, score=0.923 total time=   0.7s\n",
      "[CV 5/5] END bootstrap=True, max_depth=10, max_features=sqrt, min_samples_leaf=2, min_samples_split=2, n_estimators=8;, score=0.925 total time=   0.7s\n",
      "[CV 1/5] END bootstrap=True, max_depth=10, max_features=None, min_samples_leaf=2, min_samples_split=5, n_estimators=5;, score=0.923 total time=   1.2s\n",
      "[CV 5/5] END bootstrap=True, max_depth=10, max_features=None, min_samples_leaf=2, min_samples_split=5, n_estimators=5;, score=0.924 total time=   1.3s\n",
      "[CV 4/5] END bootstrap=True, max_depth=10, max_features=None, min_samples_leaf=4, min_samples_split=2, n_estimators=5;, score=0.925 total time=   1.4s\n",
      "[CV 5/5] END bootstrap=True, max_depth=5, max_features=sqrt, min_samples_leaf=4, min_samples_split=5, n_estimators=8;, score=0.923 total time=   0.5s\n",
      "[CV 4/5] END bootstrap=True, max_depth=5, max_features=sqrt, min_samples_leaf=2, min_samples_split=2, n_estimators=10;, score=0.919 total time=   0.6s\n",
      "[CV 3/5] END bootstrap=True, max_depth=5, max_features=None, min_samples_leaf=2, min_samples_split=2, n_estimators=10;, score=0.921 total time=   1.5s\n",
      "[CV 2/5] END bootstrap=True, max_depth=5, max_features=None, min_samples_leaf=2, min_samples_split=5, n_estimators=5;, score=0.918 total time=   0.8s\n",
      "[CV 5/5] END bootstrap=True, max_depth=5, max_features=None, min_samples_leaf=2, min_samples_split=5, n_estimators=5;, score=0.920 total time=   0.8s\n",
      "[CV 2/5] END bootstrap=True, max_depth=15, max_features=sqrt, min_samples_leaf=4, min_samples_split=2, n_estimators=5;, score=0.923 total time=   0.6s\n",
      "[CV 1/5] END bootstrap=True, max_depth=5, max_features=None, min_samples_leaf=2, min_samples_split=2, n_estimators=8;, score=0.916 total time=   1.2s\n",
      "[CV 5/5] END bootstrap=True, max_depth=5, max_features=None, min_samples_leaf=2, min_samples_split=2, n_estimators=8;, score=0.919 total time=   1.2s\n",
      "[CV 4/5] END bootstrap=True, max_depth=10, max_features=None, min_samples_leaf=2, min_samples_split=2, n_estimators=10;, score=0.925 total time=   2.6s\n",
      "[CV 4/5] END bootstrap=True, max_depth=15, max_features=sqrt, min_samples_leaf=4, min_samples_split=5, n_estimators=10;, score=0.925 total time=   1.0s\n",
      "[CV 2/5] END learning_rate=0.1, max_depth=5, max_features=sqrt, min_samples_leaf=4, min_samples_split=2, n_estimators=20, subsample=0.8;, score=0.924 total time=   1.6s\n",
      "[CV 2/5] END learning_rate=0.1, max_depth=3, max_features=sqrt, min_samples_leaf=2, min_samples_split=2, n_estimators=50, subsample=0.8;, score=0.925 total time=   2.7s\n",
      "[CV 1/5] END learning_rate=0.01, max_depth=10, max_features=sqrt, min_samples_leaf=2, min_samples_split=5, n_estimators=100, subsample=0.8;, score=0.915 total time=  24.6s\n",
      "[CV 5/5] END learning_rate=0.01, max_depth=10, max_features=sqrt, min_samples_leaf=2, min_samples_split=5, n_estimators=100, subsample=0.8;, score=0.920 total time=  24.0s\n",
      "[CV 4/5] END learning_rate=0.05, max_depth=10, max_features=sqrt, min_samples_leaf=2, min_samples_split=5, n_estimators=100, subsample=0.8;, score=0.926 total time=  23.1s\n",
      "[CV 3/5] END learning_rate=0.05, max_depth=10, max_features=log2, min_samples_leaf=2, min_samples_split=5, n_estimators=20, subsample=0.8;, score=0.918 total time=   4.7s\n",
      "[CV 1/5] END learning_rate=0.1, max_depth=5, max_features=sqrt, min_samples_leaf=2, min_samples_split=2, n_estimators=20, subsample=0.8;, score=0.919 total time=   1.6s\n",
      "[CV 4/5] END learning_rate=0.1, max_depth=5, max_features=sqrt, min_samples_leaf=2, min_samples_split=2, n_estimators=20, subsample=0.8;, score=0.922 total time=   1.6s\n",
      "[CV 2/5] END learning_rate=0.05, max_depth=3, max_features=log2, min_samples_leaf=2, min_samples_split=2, n_estimators=50, subsample=1.0;, score=0.918 total time=   3.2s\n",
      "[CV 5/5] END learning_rate=0.05, max_depth=3, max_features=log2, min_samples_leaf=2, min_samples_split=2, n_estimators=50, subsample=1.0;, score=0.923 total time=   2.4s\n",
      "[CV 3/5] END learning_rate=0.01, max_depth=3, max_features=sqrt, min_samples_leaf=4, min_samples_split=2, n_estimators=50, subsample=0.8;, score=0.818 total time=   2.6s\n",
      "[CV 1/5] END learning_rate=0.01, max_depth=3, max_features=sqrt, min_samples_leaf=4, min_samples_split=2, n_estimators=50, subsample=1.0;, score=0.814 total time=   2.4s\n",
      "[CV 4/5] END learning_rate=0.01, max_depth=3, max_features=sqrt, min_samples_leaf=4, min_samples_split=2, n_estimators=50, subsample=1.0;, score=0.821 total time=   2.4s\n",
      "[CV 3/5] END learning_rate=0.05, max_depth=5, max_features=sqrt, min_samples_leaf=4, min_samples_split=2, n_estimators=50, subsample=0.8;, score=0.925 total time=   3.9s\n",
      "[CV 2/5] END learning_rate=0.01, max_depth=10, max_features=log2, min_samples_leaf=2, min_samples_split=5, n_estimators=50, subsample=0.8;, score=0.819 total time=  11.7s\n",
      "[CV 1/5] END learning_rate=0.05, max_depth=3, max_features=log2, min_samples_leaf=4, min_samples_split=2, n_estimators=100, subsample=0.8;, score=0.923 total time=   5.6s\n",
      "[CV 4/5] END learning_rate=0.05, max_depth=3, max_features=log2, min_samples_leaf=4, min_samples_split=2, n_estimators=100, subsample=0.8;, score=0.925 total time=   5.3s\n",
      "[CV 4/5] END learning_rate=0.01, max_depth=3, max_features=sqrt, min_samples_leaf=2, min_samples_split=5, n_estimators=20, subsample=1.0;, score=0.821 total time=   1.0s\n",
      "[CV 3/5] END learning_rate=0.01, max_depth=10, max_features=sqrt, min_samples_leaf=4, min_samples_split=5, n_estimators=100, subsample=1.0;, score=0.916 total time=  24.5s\n",
      "[CV 3/5] END learning_rate=0.01, max_depth=10, max_features=sqrt, min_samples_leaf=4, min_samples_split=5, n_estimators=50, subsample=1.0;, score=0.819 total time=  12.6s\n",
      "[CV 1/5] END learning_rate=0.1, max_depth=5, max_features=sqrt, min_samples_leaf=2, min_samples_split=5, n_estimators=20, subsample=0.8;, score=0.921 total time=   1.6s\n",
      "[CV 2/5] END learning_rate=0.1, max_depth=5, max_features=sqrt, min_samples_leaf=2, min_samples_split=5, n_estimators=20, subsample=0.8;, score=0.924 total time=   1.6s\n",
      "[CV 3/5] END learning_rate=0.1, max_depth=5, max_features=sqrt, min_samples_leaf=2, min_samples_split=5, n_estimators=20, subsample=0.8;, score=0.923 total time=   1.6s\n",
      "[CV 4/5] END learning_rate=0.1, max_depth=5, max_features=sqrt, min_samples_leaf=2, min_samples_split=5, n_estimators=20, subsample=0.8;, score=0.922 total time=   1.6s\n",
      "[CV 5/5] END learning_rate=0.1, max_depth=5, max_features=sqrt, min_samples_leaf=2, min_samples_split=5, n_estimators=20, subsample=0.8;, score=0.925 total time=   1.6s\n",
      "[CV 1/5] END bootstrap=True, max_depth=5, max_features=None, min_samples_leaf=4, min_samples_split=2, n_estimators=5;, score=0.916 total time=   1.0s\n",
      "[CV 5/5] END bootstrap=True, max_depth=5, max_features=None, min_samples_leaf=4, min_samples_split=2, n_estimators=5;, score=0.920 total time=   1.3s\n",
      "[CV 4/5] END bootstrap=True, max_depth=15, max_features=None, min_samples_leaf=2, min_samples_split=2, n_estimators=10;, score=0.924 total time=   3.0s\n",
      "[CV 4/5] END bootstrap=True, max_depth=10, max_features=sqrt, min_samples_leaf=2, min_samples_split=5, n_estimators=5;, score=0.926 total time=   0.5s\n",
      "[CV 2/5] END bootstrap=True, max_depth=10, max_features=None, min_samples_leaf=4, min_samples_split=2, n_estimators=10;, score=0.923 total time=   2.5s\n",
      "[CV 1/5] END bootstrap=True, max_depth=15, max_features=None, min_samples_leaf=4, min_samples_split=5, n_estimators=8;, score=0.921 total time=   2.3s\n",
      "[CV 5/5] END bootstrap=True, max_depth=15, max_features=None, min_samples_leaf=4, min_samples_split=5, n_estimators=8;, score=0.923 total time=   2.4s\n",
      "[CV 4/5] END bootstrap=True, max_depth=10, max_features=None, min_samples_leaf=2, min_samples_split=2, n_estimators=5;, score=0.924 total time=   1.3s\n",
      "[CV 3/5] END bootstrap=True, max_depth=10, max_features=sqrt, min_samples_leaf=2, min_samples_split=2, n_estimators=8;, score=0.926 total time=   0.7s\n",
      "[CV 1/5] END bootstrap=True, max_depth=5, max_features=sqrt, min_samples_leaf=2, min_samples_split=5, n_estimators=8;, score=0.906 total time=   0.5s\n",
      "[CV 3/5] END bootstrap=True, max_depth=5, max_features=sqrt, min_samples_leaf=2, min_samples_split=5, n_estimators=8;, score=0.924 total time=   0.5s\n",
      "[CV 2/5] END bootstrap=True, max_depth=10, max_features=None, min_samples_leaf=2, min_samples_split=5, n_estimators=5;, score=0.922 total time=   1.3s\n",
      "[CV 1/5] END bootstrap=True, max_depth=10, max_features=None, min_samples_leaf=4, min_samples_split=2, n_estimators=5;, score=0.923 total time=   1.3s\n",
      "[CV 5/5] END bootstrap=True, max_depth=10, max_features=None, min_samples_leaf=4, min_samples_split=2, n_estimators=5;, score=0.924 total time=   1.3s\n",
      "[CV 3/5] END bootstrap=True, max_depth=5, max_features=sqrt, min_samples_leaf=2, min_samples_split=2, n_estimators=10;, score=0.912 total time=   0.7s\n",
      "[CV 2/5] END bootstrap=True, max_depth=5, max_features=None, min_samples_leaf=2, min_samples_split=2, n_estimators=10;, score=0.917 total time=   1.5s\n",
      "[CV 1/5] END bootstrap=True, max_depth=5, max_features=None, min_samples_leaf=2, min_samples_split=5, n_estimators=5;, score=0.916 total time=   0.8s\n",
      "[CV 4/5] END bootstrap=True, max_depth=5, max_features=None, min_samples_leaf=2, min_samples_split=5, n_estimators=5;, score=0.917 total time=   0.8s\n",
      "[CV 4/5] END bootstrap=True, max_depth=5, max_features=sqrt, min_samples_leaf=4, min_samples_split=5, n_estimators=5;, score=0.912 total time=   0.3s\n",
      "[CV 3/5] END bootstrap=True, max_depth=15, max_features=sqrt, min_samples_leaf=4, min_samples_split=2, n_estimators=5;, score=0.925 total time=   0.6s\n",
      "[CV 2/5] END bootstrap=True, max_depth=5, max_features=None, min_samples_leaf=2, min_samples_split=2, n_estimators=8;, score=0.917 total time=   1.2s\n",
      "[CV 1/5] END bootstrap=True, max_depth=10, max_features=None, min_samples_leaf=2, min_samples_split=2, n_estimators=10;, score=0.924 total time=   2.5s\n",
      "[CV 5/5] END bootstrap=True, max_depth=10, max_features=None, min_samples_leaf=2, min_samples_split=2, n_estimators=10;, score=0.925 total time=   2.5s\n",
      "[CV 3/5] END learning_rate=0.1, max_depth=5, max_features=sqrt, min_samples_leaf=4, min_samples_split=2, n_estimators=20, subsample=0.8;, score=0.921 total time=   1.5s\n",
      "[CV 1/5] END learning_rate=0.1, max_depth=3, max_features=sqrt, min_samples_leaf=2, min_samples_split=2, n_estimators=50, subsample=0.8;, score=0.922 total time=   2.6s\n",
      "[CV 5/5] END learning_rate=0.1, max_depth=3, max_features=sqrt, min_samples_leaf=2, min_samples_split=2, n_estimators=50, subsample=0.8;, score=0.928 total time=   2.7s\n",
      "[CV 4/5] END learning_rate=0.01, max_depth=10, max_features=sqrt, min_samples_leaf=2, min_samples_split=5, n_estimators=100, subsample=0.8;, score=0.916 total time=  24.4s\n",
      "[CV 3/5] END learning_rate=0.1, max_depth=5, max_features=log2, min_samples_leaf=4, min_samples_split=2, n_estimators=100, subsample=0.8;, score=0.929 total time=   7.8s\n",
      "[CV 1/5] END learning_rate=0.01, max_depth=3, max_features=log2, min_samples_leaf=4, min_samples_split=2, n_estimators=20, subsample=0.8;, score=0.814 total time=   1.1s\n",
      "[CV 2/5] END learning_rate=0.01, max_depth=3, max_features=log2, min_samples_leaf=4, min_samples_split=2, n_estimators=20, subsample=0.8;, score=0.817 total time=   1.1s\n",
      "[CV 3/5] END learning_rate=0.01, max_depth=3, max_features=log2, min_samples_leaf=4, min_samples_split=2, n_estimators=20, subsample=0.8;, score=0.818 total time=   1.1s\n",
      "[CV 4/5] END learning_rate=0.01, max_depth=3, max_features=log2, min_samples_leaf=4, min_samples_split=2, n_estimators=20, subsample=0.8;, score=0.821 total time=   1.1s\n",
      "[CV 5/5] END learning_rate=0.01, max_depth=3, max_features=log2, min_samples_leaf=4, min_samples_split=2, n_estimators=20, subsample=0.8;, score=0.820 total time=   1.1s\n",
      "[CV 2/5] END learning_rate=0.1, max_depth=5, max_features=sqrt, min_samples_leaf=4, min_samples_split=5, n_estimators=20, subsample=0.8;, score=0.923 total time=   1.6s\n",
      "[CV 5/5] END learning_rate=0.1, max_depth=5, max_features=sqrt, min_samples_leaf=4, min_samples_split=5, n_estimators=20, subsample=0.8;, score=0.925 total time=   1.6s\n",
      "[CV 3/5] END learning_rate=0.05, max_depth=10, max_features=sqrt, min_samples_leaf=2, min_samples_split=5, n_estimators=100, subsample=0.8;, score=0.929 total time=  23.9s\n",
      "[CV 2/5] END learning_rate=0.05, max_depth=10, max_features=log2, min_samples_leaf=2, min_samples_split=5, n_estimators=20, subsample=0.8;, score=0.919 total time=   4.8s\n",
      "[CV 5/5] END learning_rate=0.05, max_depth=10, max_features=log2, min_samples_leaf=2, min_samples_split=5, n_estimators=20, subsample=0.8;, score=0.919 total time=   4.7s\n",
      "[CV 3/5] END learning_rate=0.1, max_depth=5, max_features=sqrt, min_samples_leaf=2, min_samples_split=2, n_estimators=20, subsample=0.8;, score=0.922 total time=   1.6s\n",
      "[CV 1/5] END learning_rate=0.05, max_depth=3, max_features=log2, min_samples_leaf=2, min_samples_split=2, n_estimators=50, subsample=1.0;, score=0.912 total time=   3.0s\n",
      "[CV 4/5] END learning_rate=0.05, max_depth=3, max_features=log2, min_samples_leaf=2, min_samples_split=2, n_estimators=50, subsample=1.0;, score=0.917 total time=   2.4s\n",
      "[CV 2/5] END learning_rate=0.01, max_depth=3, max_features=sqrt, min_samples_leaf=4, min_samples_split=2, n_estimators=50, subsample=0.8;, score=0.817 total time=   2.6s\n",
      "[CV 5/5] END learning_rate=0.01, max_depth=3, max_features=sqrt, min_samples_leaf=4, min_samples_split=2, n_estimators=50, subsample=0.8;, score=0.820 total time=   2.6s\n",
      "[CV 3/5] END learning_rate=0.01, max_depth=3, max_features=sqrt, min_samples_leaf=4, min_samples_split=2, n_estimators=50, subsample=1.0;, score=0.818 total time=   2.4s\n",
      "[CV 2/5] END learning_rate=0.05, max_depth=5, max_features=sqrt, min_samples_leaf=4, min_samples_split=2, n_estimators=50, subsample=0.8;, score=0.925 total time=   3.8s\n",
      "[CV 1/5] END learning_rate=0.01, max_depth=10, max_features=log2, min_samples_leaf=2, min_samples_split=5, n_estimators=50, subsample=0.8;, score=0.815 total time=  11.7s\n",
      "[CV 5/5] END learning_rate=0.01, max_depth=10, max_features=log2, min_samples_leaf=2, min_samples_split=5, n_estimators=50, subsample=0.8;, score=0.821 total time=  12.0s\n",
      "[CV 1/5] END learning_rate=0.01, max_depth=10, max_features=sqrt, min_samples_leaf=4, min_samples_split=5, n_estimators=100, subsample=1.0;, score=0.915 total time=  24.3s\n",
      "[CV 1/5] END learning_rate=0.01, max_depth=10, max_features=sqrt, min_samples_leaf=4, min_samples_split=5, n_estimators=50, subsample=1.0;, score=0.815 total time=  12.3s\n",
      "[CV 4/5] END learning_rate=0.01, max_depth=10, max_features=sqrt, min_samples_leaf=4, min_samples_split=5, n_estimators=50, subsample=1.0;, score=0.822 total time=  11.9s\n",
      "Best parameters found: {'subsample': 0.8, 'n_estimators': 100, 'min_samples_split': 2, 'min_samples_leaf': 4, 'max_features': 'log2', 'max_depth': 5, 'learning_rate': 0.1}\n"
     ]
    }
   ],
   "source": [
    "grad_random_search = {\n",
    "    'learning_rate': [0.01, 0.05, 0.1],\n",
    "    'max_depth': [3, 5, 10],\n",
    "    'max_features': ['log2','sqrt'], \n",
    "    'min_samples_leaf': [2, 4],\n",
    "    'min_samples_split': [2, 5], \n",
    "    'n_estimators': [20,50,100], \n",
    "    'subsample': [0.8, 1.0]\n",
    "}\n",
    "\n",
    "grad_clf = GradientBoostingClassifier()\n",
    "grad_model_random = RandomizedSearchCV(estimator=grad_clf, \n",
    "                                       param_distributions=grad_random_search, \n",
    "                                       n_iter=20, \n",
    "                                       cv=KFold(n_splits=5),\n",
    "                                       verbose=5, \n",
    "                                       random_state=101, \n",
    "                                       n_jobs=-1)\n",
    "\n",
    "grad_model_random.fit(train_x, train_y)\n",
    "\n",
    "print(\"Best parameters found:\", grad_model_random.best_params_)\n",
    "gb_pred_1 = grad_model_random.best_estimator_.predict(test_x)"
   ]
  },
  {
   "cell_type": "code",
   "execution_count": 83,
   "id": "13846313",
   "metadata": {
    "execution": {
     "iopub.execute_input": "2024-11-30T05:17:32.060582Z",
     "iopub.status.busy": "2024-11-30T05:17:32.060193Z",
     "iopub.status.idle": "2024-11-30T05:17:32.067524Z",
     "shell.execute_reply": "2024-11-30T05:17:32.066565Z"
    },
    "papermill": {
     "duration": 0.035454,
     "end_time": "2024-11-30T05:17:32.069676",
     "exception": false,
     "start_time": "2024-11-30T05:17:32.034222",
     "status": "completed"
    },
    "tags": []
   },
   "outputs": [
    {
     "data": {
      "text/plain": [
       "array([0, 1, 1, ..., 0, 0, 0])"
      ]
     },
     "execution_count": 83,
     "metadata": {},
     "output_type": "execute_result"
    }
   ],
   "source": [
    "gb_pred_1"
   ]
  },
  {
   "cell_type": "code",
   "execution_count": 84,
   "id": "60f1d70e",
   "metadata": {
    "execution": {
     "iopub.execute_input": "2024-11-30T05:17:32.122019Z",
     "iopub.status.busy": "2024-11-30T05:17:32.121316Z",
     "iopub.status.idle": "2024-11-30T05:17:32.189701Z",
     "shell.execute_reply": "2024-11-30T05:17:32.188392Z"
    },
    "papermill": {
     "duration": 0.09808,
     "end_time": "2024-11-30T05:17:32.192002",
     "exception": false,
     "start_time": "2024-11-30T05:17:32.093922",
     "status": "completed"
    },
    "tags": []
   },
   "outputs": [
    {
     "name": "stdout",
     "output_type": "stream",
     "text": [
      "Graboosting\n",
      "[[27604  1197]\n",
      " [ 1281  5093]]\n",
      "Accuracy: 0.9295522388059702\n",
      "AUC Score: 0.8787331207460014\n",
      "Precision: 0.809697933227345\n",
      "Recall: 0.799027298399749\n",
      "F1 Score: 0.8043272267845862\n"
     ]
    }
   ],
   "source": [
    "print(\"Graboosting\")\n",
    "print(confusion_matrix(test_y, gb_pred_1))\n",
    "print(\"Accuracy:\",metrics.accuracy_score(test_y, gb_pred_1))\n",
    "print (\"AUC Score:\", roc_auc_score(test_y, gb_pred_1))\n",
    "print (\"Precision:\", precision_score(test_y, gb_pred_1))\n",
    "print (\"Recall:\", recall_score(test_y, gb_pred_1))\n",
    "print (\"F1 Score:\", f1_score(test_y, gb_pred_1))"
   ]
  },
  {
   "cell_type": "code",
   "execution_count": 85,
   "id": "3d886757",
   "metadata": {
    "execution": {
     "iopub.execute_input": "2024-11-30T05:17:32.244378Z",
     "iopub.status.busy": "2024-11-30T05:17:32.244004Z",
     "iopub.status.idle": "2024-11-30T05:17:32.594250Z",
     "shell.execute_reply": "2024-11-30T05:17:32.593367Z"
    },
    "papermill": {
     "duration": 0.379813,
     "end_time": "2024-11-30T05:17:32.596684",
     "exception": false,
     "start_time": "2024-11-30T05:17:32.216871",
     "status": "completed"
    },
    "tags": []
   },
   "outputs": [],
   "source": [
    "final = grad_model_random.best_estimator_.predict(test_df)"
   ]
  },
  {
   "cell_type": "code",
   "execution_count": 86,
   "id": "3299637e",
   "metadata": {
    "execution": {
     "iopub.execute_input": "2024-11-30T05:17:32.646690Z",
     "iopub.status.busy": "2024-11-30T05:17:32.646241Z",
     "iopub.status.idle": "2024-11-30T05:17:32.723152Z",
     "shell.execute_reply": "2024-11-30T05:17:32.721975Z"
    },
    "papermill": {
     "duration": 0.104665,
     "end_time": "2024-11-30T05:17:32.725779",
     "exception": false,
     "start_time": "2024-11-30T05:17:32.621114",
     "status": "completed"
    },
    "tags": []
   },
   "outputs": [],
   "source": [
    "depression_submit = pd.DataFrame({'id': test_df_copy['id'],'Depression': final})\n",
    "depression_submit.to_csv('submission.csv',index=False)"
   ]
  },
  {
   "cell_type": "code",
   "execution_count": 87,
   "id": "1cfdd559",
   "metadata": {
    "execution": {
     "iopub.execute_input": "2024-11-30T05:17:32.777017Z",
     "iopub.status.busy": "2024-11-30T05:17:32.776244Z",
     "iopub.status.idle": "2024-11-30T05:17:32.785683Z",
     "shell.execute_reply": "2024-11-30T05:17:32.784632Z"
    },
    "papermill": {
     "duration": 0.037421,
     "end_time": "2024-11-30T05:17:32.787810",
     "exception": false,
     "start_time": "2024-11-30T05:17:32.750389",
     "status": "completed"
    },
    "tags": []
   },
   "outputs": [
    {
     "data": {
      "text/html": [
       "<div>\n",
       "<style scoped>\n",
       "    .dataframe tbody tr th:only-of-type {\n",
       "        vertical-align: middle;\n",
       "    }\n",
       "\n",
       "    .dataframe tbody tr th {\n",
       "        vertical-align: top;\n",
       "    }\n",
       "\n",
       "    .dataframe thead th {\n",
       "        text-align: right;\n",
       "    }\n",
       "</style>\n",
       "<table border=\"1\" class=\"dataframe\">\n",
       "  <thead>\n",
       "    <tr style=\"text-align: right;\">\n",
       "      <th></th>\n",
       "      <th>id</th>\n",
       "      <th>Depression</th>\n",
       "    </tr>\n",
       "  </thead>\n",
       "  <tbody>\n",
       "    <tr>\n",
       "      <th>0</th>\n",
       "      <td>140700</td>\n",
       "      <td>0</td>\n",
       "    </tr>\n",
       "    <tr>\n",
       "      <th>1</th>\n",
       "      <td>140701</td>\n",
       "      <td>0</td>\n",
       "    </tr>\n",
       "    <tr>\n",
       "      <th>2</th>\n",
       "      <td>140702</td>\n",
       "      <td>0</td>\n",
       "    </tr>\n",
       "    <tr>\n",
       "      <th>3</th>\n",
       "      <td>140703</td>\n",
       "      <td>1</td>\n",
       "    </tr>\n",
       "    <tr>\n",
       "      <th>4</th>\n",
       "      <td>140704</td>\n",
       "      <td>0</td>\n",
       "    </tr>\n",
       "  </tbody>\n",
       "</table>\n",
       "</div>"
      ],
      "text/plain": [
       "       id  Depression\n",
       "0  140700           0\n",
       "1  140701           0\n",
       "2  140702           0\n",
       "3  140703           1\n",
       "4  140704           0"
      ]
     },
     "execution_count": 87,
     "metadata": {},
     "output_type": "execute_result"
    }
   ],
   "source": [
    "depression_submit.head(5)"
   ]
  }
 ],
 "metadata": {
  "kaggle": {
   "accelerator": "none",
   "dataSources": [
    {
     "databundleVersionId": 10008389,
     "sourceId": 84895,
     "sourceType": "competition"
    }
   ],
   "dockerImageVersionId": 30786,
   "isGpuEnabled": false,
   "isInternetEnabled": false,
   "language": "python",
   "sourceType": "notebook"
  },
  "kernelspec": {
   "display_name": "Python 3",
   "language": "python",
   "name": "python3"
  },
  "language_info": {
   "codemirror_mode": {
    "name": "ipython",
    "version": 3
   },
   "file_extension": ".py",
   "mimetype": "text/x-python",
   "name": "python",
   "nbconvert_exporter": "python",
   "pygments_lexer": "ipython3",
   "version": "3.10.14"
  },
  "papermill": {
   "default_parameters": {},
   "duration": 260.400522,
   "end_time": "2024-11-30T05:17:35.432267",
   "environment_variables": {},
   "exception": null,
   "input_path": "__notebook__.ipynb",
   "output_path": "__notebook__.ipynb",
   "parameters": {},
   "start_time": "2024-11-30T05:13:15.031745",
   "version": "2.6.0"
  }
 },
 "nbformat": 4,
 "nbformat_minor": 5
}
